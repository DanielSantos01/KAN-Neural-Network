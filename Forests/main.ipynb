{
 "cells": [
  {
   "cell_type": "code",
   "execution_count": 1,
   "metadata": {},
   "outputs": [],
   "source": [
    "import pandas as pd\n",
    "import numpy as np\n",
    "import matplotlib.pyplot as plt\n",
    "import seaborn as sns\n",
    "\n",
    "from sklearn.model_selection import train_test_split"
   ]
  },
  {
   "cell_type": "code",
   "execution_count": 70,
   "metadata": {},
   "outputs": [],
   "source": [
    "import joblib\n",
    "import seaborn as sns\n",
    "from scipy.stats import ks_2samp"
   ]
  },
  {
   "cell_type": "code",
   "execution_count": 2,
   "metadata": {},
   "outputs": [],
   "source": [
    "RANDOM_SEED = 10\n",
    "np.random.seed(RANDOM_SEED)"
   ]
  },
  {
   "cell_type": "markdown",
   "metadata": {},
   "source": [
    "# Carregando o conjunto de dados"
   ]
  },
  {
   "cell_type": "code",
   "execution_count": 85,
   "metadata": {},
   "outputs": [],
   "source": [
    "df = pd.read_csv('./data/train.csv')\n",
    "df_test = pd.read_csv('./data/test.csv')"
   ]
  },
  {
   "cell_type": "code",
   "execution_count": 86,
   "metadata": {},
   "outputs": [],
   "source": [
    "df_train, df_val = train_test_split(df, test_size=0.6, random_state=RANDOM_SEED)"
   ]
  },
  {
   "cell_type": "code",
   "execution_count": 87,
   "metadata": {},
   "outputs": [
    {
     "data": {
      "text/html": [
       "<div>\n",
       "<style scoped>\n",
       "    .dataframe tbody tr th:only-of-type {\n",
       "        vertical-align: middle;\n",
       "    }\n",
       "\n",
       "    .dataframe tbody tr th {\n",
       "        vertical-align: top;\n",
       "    }\n",
       "\n",
       "    .dataframe thead th {\n",
       "        text-align: right;\n",
       "    }\n",
       "</style>\n",
       "<table border=\"1\" class=\"dataframe\">\n",
       "  <thead>\n",
       "    <tr style=\"text-align: right;\">\n",
       "      <th></th>\n",
       "      <th>Unnamed: 0</th>\n",
       "      <th>id</th>\n",
       "      <th>Gender</th>\n",
       "      <th>Customer Type</th>\n",
       "      <th>Age</th>\n",
       "      <th>Type of Travel</th>\n",
       "      <th>Class</th>\n",
       "      <th>Flight Distance</th>\n",
       "      <th>Inflight wifi service</th>\n",
       "      <th>Departure/Arrival time convenient</th>\n",
       "      <th>...</th>\n",
       "      <th>Inflight entertainment</th>\n",
       "      <th>On-board service</th>\n",
       "      <th>Leg room service</th>\n",
       "      <th>Baggage handling</th>\n",
       "      <th>Checkin service</th>\n",
       "      <th>Inflight service</th>\n",
       "      <th>Cleanliness</th>\n",
       "      <th>Departure Delay in Minutes</th>\n",
       "      <th>Arrival Delay in Minutes</th>\n",
       "      <th>satisfaction</th>\n",
       "    </tr>\n",
       "  </thead>\n",
       "  <tbody>\n",
       "    <tr>\n",
       "      <th>266</th>\n",
       "      <td>266</td>\n",
       "      <td>19908</td>\n",
       "      <td>Female</td>\n",
       "      <td>Loyal Customer</td>\n",
       "      <td>37</td>\n",
       "      <td>Business travel</td>\n",
       "      <td>Business</td>\n",
       "      <td>1801</td>\n",
       "      <td>2</td>\n",
       "      <td>4</td>\n",
       "      <td>...</td>\n",
       "      <td>2</td>\n",
       "      <td>2</td>\n",
       "      <td>2</td>\n",
       "      <td>2</td>\n",
       "      <td>1</td>\n",
       "      <td>2</td>\n",
       "      <td>4</td>\n",
       "      <td>0</td>\n",
       "      <td>0.0</td>\n",
       "      <td>neutral or dissatisfied</td>\n",
       "    </tr>\n",
       "    <tr>\n",
       "      <th>62627</th>\n",
       "      <td>62627</td>\n",
       "      <td>69934</td>\n",
       "      <td>Male</td>\n",
       "      <td>Loyal Customer</td>\n",
       "      <td>25</td>\n",
       "      <td>Business travel</td>\n",
       "      <td>Business</td>\n",
       "      <td>2174</td>\n",
       "      <td>2</td>\n",
       "      <td>4</td>\n",
       "      <td>...</td>\n",
       "      <td>2</td>\n",
       "      <td>3</td>\n",
       "      <td>2</td>\n",
       "      <td>4</td>\n",
       "      <td>2</td>\n",
       "      <td>4</td>\n",
       "      <td>2</td>\n",
       "      <td>0</td>\n",
       "      <td>0.0</td>\n",
       "      <td>neutral or dissatisfied</td>\n",
       "    </tr>\n",
       "    <tr>\n",
       "      <th>61446</th>\n",
       "      <td>61446</td>\n",
       "      <td>89105</td>\n",
       "      <td>Male</td>\n",
       "      <td>Loyal Customer</td>\n",
       "      <td>66</td>\n",
       "      <td>Business travel</td>\n",
       "      <td>Eco</td>\n",
       "      <td>1947</td>\n",
       "      <td>1</td>\n",
       "      <td>2</td>\n",
       "      <td>...</td>\n",
       "      <td>1</td>\n",
       "      <td>1</td>\n",
       "      <td>3</td>\n",
       "      <td>2</td>\n",
       "      <td>1</td>\n",
       "      <td>3</td>\n",
       "      <td>1</td>\n",
       "      <td>0</td>\n",
       "      <td>0.0</td>\n",
       "      <td>neutral or dissatisfied</td>\n",
       "    </tr>\n",
       "    <tr>\n",
       "      <th>64495</th>\n",
       "      <td>64495</td>\n",
       "      <td>91559</td>\n",
       "      <td>Female</td>\n",
       "      <td>Loyal Customer</td>\n",
       "      <td>52</td>\n",
       "      <td>Personal Travel</td>\n",
       "      <td>Eco</td>\n",
       "      <td>680</td>\n",
       "      <td>2</td>\n",
       "      <td>5</td>\n",
       "      <td>...</td>\n",
       "      <td>1</td>\n",
       "      <td>1</td>\n",
       "      <td>2</td>\n",
       "      <td>1</td>\n",
       "      <td>3</td>\n",
       "      <td>1</td>\n",
       "      <td>5</td>\n",
       "      <td>77</td>\n",
       "      <td>67.0</td>\n",
       "      <td>neutral or dissatisfied</td>\n",
       "    </tr>\n",
       "    <tr>\n",
       "      <th>69454</th>\n",
       "      <td>69454</td>\n",
       "      <td>15221</td>\n",
       "      <td>Female</td>\n",
       "      <td>disloyal Customer</td>\n",
       "      <td>45</td>\n",
       "      <td>Business travel</td>\n",
       "      <td>Eco</td>\n",
       "      <td>416</td>\n",
       "      <td>3</td>\n",
       "      <td>0</td>\n",
       "      <td>...</td>\n",
       "      <td>2</td>\n",
       "      <td>5</td>\n",
       "      <td>1</td>\n",
       "      <td>3</td>\n",
       "      <td>4</td>\n",
       "      <td>4</td>\n",
       "      <td>2</td>\n",
       "      <td>18</td>\n",
       "      <td>1.0</td>\n",
       "      <td>neutral or dissatisfied</td>\n",
       "    </tr>\n",
       "  </tbody>\n",
       "</table>\n",
       "<p>5 rows × 25 columns</p>\n",
       "</div>"
      ],
      "text/plain": [
       "       Unnamed: 0     id  Gender      Customer Type  Age   Type of Travel  \\\n",
       "266           266  19908  Female     Loyal Customer   37  Business travel   \n",
       "62627       62627  69934    Male     Loyal Customer   25  Business travel   \n",
       "61446       61446  89105    Male     Loyal Customer   66  Business travel   \n",
       "64495       64495  91559  Female     Loyal Customer   52  Personal Travel   \n",
       "69454       69454  15221  Female  disloyal Customer   45  Business travel   \n",
       "\n",
       "          Class  Flight Distance  Inflight wifi service  \\\n",
       "266    Business             1801                      2   \n",
       "62627  Business             2174                      2   \n",
       "61446       Eco             1947                      1   \n",
       "64495       Eco              680                      2   \n",
       "69454       Eco              416                      3   \n",
       "\n",
       "       Departure/Arrival time convenient  ...  Inflight entertainment  \\\n",
       "266                                    4  ...                       2   \n",
       "62627                                  4  ...                       2   \n",
       "61446                                  2  ...                       1   \n",
       "64495                                  5  ...                       1   \n",
       "69454                                  0  ...                       2   \n",
       "\n",
       "       On-board service  Leg room service  Baggage handling  Checkin service  \\\n",
       "266                   2                 2                 2                1   \n",
       "62627                 3                 2                 4                2   \n",
       "61446                 1                 3                 2                1   \n",
       "64495                 1                 2                 1                3   \n",
       "69454                 5                 1                 3                4   \n",
       "\n",
       "       Inflight service  Cleanliness  Departure Delay in Minutes  \\\n",
       "266                   2            4                           0   \n",
       "62627                 4            2                           0   \n",
       "61446                 3            1                           0   \n",
       "64495                 1            5                          77   \n",
       "69454                 4            2                          18   \n",
       "\n",
       "       Arrival Delay in Minutes             satisfaction  \n",
       "266                         0.0  neutral or dissatisfied  \n",
       "62627                       0.0  neutral or dissatisfied  \n",
       "61446                       0.0  neutral or dissatisfied  \n",
       "64495                      67.0  neutral or dissatisfied  \n",
       "69454                       1.0  neutral or dissatisfied  \n",
       "\n",
       "[5 rows x 25 columns]"
      ]
     },
     "execution_count": 87,
     "metadata": {},
     "output_type": "execute_result"
    }
   ],
   "source": [
    "df_train.head()"
   ]
  },
  {
   "cell_type": "code",
   "execution_count": 88,
   "metadata": {},
   "outputs": [
    {
     "data": {
      "text/plain": [
       "Unnamed: 0                             int64\n",
       "id                                     int64\n",
       "Gender                                object\n",
       "Customer Type                         object\n",
       "Age                                    int64\n",
       "Type of Travel                        object\n",
       "Class                                 object\n",
       "Flight Distance                        int64\n",
       "Inflight wifi service                  int64\n",
       "Departure/Arrival time convenient      int64\n",
       "Ease of Online booking                 int64\n",
       "Gate location                          int64\n",
       "Food and drink                         int64\n",
       "Online boarding                        int64\n",
       "Seat comfort                           int64\n",
       "Inflight entertainment                 int64\n",
       "On-board service                       int64\n",
       "Leg room service                       int64\n",
       "Baggage handling                       int64\n",
       "Checkin service                        int64\n",
       "Inflight service                       int64\n",
       "Cleanliness                            int64\n",
       "Departure Delay in Minutes             int64\n",
       "Arrival Delay in Minutes             float64\n",
       "satisfaction                          object\n",
       "dtype: object"
      ]
     },
     "execution_count": 88,
     "metadata": {},
     "output_type": "execute_result"
    }
   ],
   "source": [
    "df_train.dtypes"
   ]
  },
  {
   "cell_type": "code",
   "execution_count": 89,
   "metadata": {},
   "outputs": [],
   "source": [
    "# Convert to category type\n",
    "df_train['Gender'] = df_train['Gender'].astype('category')\n",
    "df_train['Customer Type'] = df_train['Customer Type'].astype('category')\n",
    "df_train['Type of Travel'] = df_train['Type of Travel'].astype('category')\n",
    "df_train['Class'] = df_train['Class'].astype('category')\n",
    "df_train['satisfaction'] = df_train['satisfaction'].astype('category')"
   ]
  },
  {
   "cell_type": "code",
   "execution_count": 90,
   "metadata": {},
   "outputs": [
    {
     "name": "stdout",
     "output_type": "stream",
     "text": [
      "Gender has 2 unique categories: ['Female', 'Male']\n",
      "Categories (2, object): ['Female', 'Male']\n",
      "Customer Type has 2 unique categories: ['Loyal Customer', 'disloyal Customer']\n",
      "Categories (2, object): ['Loyal Customer', 'disloyal Customer']\n",
      "Type of Travel has 2 unique categories: ['Business travel', 'Personal Travel']\n",
      "Categories (2, object): ['Business travel', 'Personal Travel']\n",
      "Class has 3 unique categories: ['Business', 'Eco', 'Eco Plus']\n",
      "Categories (3, object): ['Business', 'Eco', 'Eco Plus']\n",
      "satisfaction has 2 unique categories: ['neutral or dissatisfied', 'satisfied']\n",
      "Categories (2, object): ['neutral or dissatisfied', 'satisfied']\n"
     ]
    }
   ],
   "source": [
    "# List of categorical columns\n",
    "categorical_columns = ['Gender', 'Customer Type', 'Type of Travel', 'Class', 'satisfaction']\n",
    "\n",
    "for column in categorical_columns:\n",
    "    unique_values = df_train[column].unique()\n",
    "    print(f'{column} has {len(unique_values)} unique categories: {unique_values}')"
   ]
  },
  {
   "cell_type": "code",
   "execution_count": 91,
   "metadata": {},
   "outputs": [
    {
     "name": "stdout",
     "output_type": "stream",
     "text": [
      "<class 'pandas.core.frame.DataFrame'>\n",
      "Int64Index: 41561 entries, 266 to 83209\n",
      "Data columns (total 25 columns):\n",
      " #   Column                             Non-Null Count  Dtype   \n",
      "---  ------                             --------------  -----   \n",
      " 0   Unnamed: 0                         41561 non-null  int64   \n",
      " 1   id                                 41561 non-null  int64   \n",
      " 2   Gender                             41561 non-null  category\n",
      " 3   Customer Type                      41561 non-null  category\n",
      " 4   Age                                41561 non-null  int64   \n",
      " 5   Type of Travel                     41561 non-null  category\n",
      " 6   Class                              41561 non-null  category\n",
      " 7   Flight Distance                    41561 non-null  int64   \n",
      " 8   Inflight wifi service              41561 non-null  int64   \n",
      " 9   Departure/Arrival time convenient  41561 non-null  int64   \n",
      " 10  Ease of Online booking             41561 non-null  int64   \n",
      " 11  Gate location                      41561 non-null  int64   \n",
      " 12  Food and drink                     41561 non-null  int64   \n",
      " 13  Online boarding                    41561 non-null  int64   \n",
      " 14  Seat comfort                       41561 non-null  int64   \n",
      " 15  Inflight entertainment             41561 non-null  int64   \n",
      " 16  On-board service                   41561 non-null  int64   \n",
      " 17  Leg room service                   41561 non-null  int64   \n",
      " 18  Baggage handling                   41561 non-null  int64   \n",
      " 19  Checkin service                    41561 non-null  int64   \n",
      " 20  Inflight service                   41561 non-null  int64   \n",
      " 21  Cleanliness                        41561 non-null  int64   \n",
      " 22  Departure Delay in Minutes         41561 non-null  int64   \n",
      " 23  Arrival Delay in Minutes           41433 non-null  float64 \n",
      " 24  satisfaction                       41561 non-null  category\n",
      "dtypes: category(5), float64(1), int64(19)\n",
      "memory usage: 6.9 MB\n"
     ]
    }
   ],
   "source": [
    "df_train.info()"
   ]
  },
  {
   "cell_type": "code",
   "execution_count": 92,
   "metadata": {},
   "outputs": [],
   "source": [
    "# Perform one-hot encoding\n",
    "df_train = pd.get_dummies(df_train, columns=['Gender', 'Customer Type', 'Type of Travel', 'Class', 'satisfaction'])"
   ]
  },
  {
   "cell_type": "code",
   "execution_count": 93,
   "metadata": {},
   "outputs": [],
   "source": [
    "spearman_corr_df = df_train.corr(method='spearman')"
   ]
  },
  {
   "cell_type": "code",
   "execution_count": 94,
   "metadata": {},
   "outputs": [
    {
     "data": {
      "text/plain": [
       "satisfaction_satisfied                  1.000000\n",
       "Online boarding                         0.549373\n",
       "Class_Business                          0.500813\n",
       "Type of Travel_Business travel          0.444745\n",
       "Inflight entertainment                  0.403266\n",
       "Seat comfort                            0.364929\n",
       "On-board service                        0.326287\n",
       "Leg room service                        0.321098\n",
       "Cleanliness                             0.307570\n",
       "Inflight wifi service                   0.285538\n",
       "Baggage handling                        0.264854\n",
       "Inflight service                        0.260552\n",
       "Flight Distance                         0.258360\n",
       "Checkin service                         0.229601\n",
       "Food and drink                          0.213566\n",
       "Customer Type_Loyal Customer            0.184636\n",
       "Ease of Online booking                  0.174876\n",
       "Age                                     0.143926\n",
       "id                                      0.018203\n",
       "Gender_Male                             0.011968\n",
       "Gate location                          -0.001059\n",
       "Unnamed: 0                             -0.008215\n",
       "Gender_Female                          -0.011968\n",
       "Departure/Arrival time convenient      -0.047624\n",
       "Departure Delay in Minutes             -0.067423\n",
       "Class_Eco Plus                         -0.100535\n",
       "Arrival Delay in Minutes               -0.101333\n",
       "Customer Type_disloyal Customer        -0.184636\n",
       "Type of Travel_Personal Travel         -0.444745\n",
       "Class_Eco                              -0.450301\n",
       "satisfaction_neutral or dissatisfied   -1.000000\n",
       "Name: satisfaction_satisfied, dtype: float64"
      ]
     },
     "execution_count": 94,
     "metadata": {},
     "output_type": "execute_result"
    }
   ],
   "source": [
    "spearman_corr_df['satisfaction_satisfied'].sort_values(ascending=False)"
   ]
  },
  {
   "cell_type": "code",
   "execution_count": 95,
   "metadata": {},
   "outputs": [],
   "source": [
    "df_train.drop(columns=['Unnamed: 0', 'id'], inplace=True)"
   ]
  },
  {
   "cell_type": "code",
   "execution_count": 96,
   "metadata": {},
   "outputs": [
    {
     "data": {
      "text/plain": [
       "(41561, 29)"
      ]
     },
     "execution_count": 96,
     "metadata": {},
     "output_type": "execute_result"
    }
   ],
   "source": [
    "df_train.shape"
   ]
  },
  {
   "cell_type": "markdown",
   "metadata": {},
   "source": [
    "# Lidando com dados ausentes"
   ]
  },
  {
   "cell_type": "code",
   "execution_count": 97,
   "metadata": {},
   "outputs": [
    {
     "data": {
      "text/plain": [
       "Age                                       0\n",
       "Flight Distance                           0\n",
       "Inflight wifi service                     0\n",
       "Departure/Arrival time convenient         0\n",
       "Ease of Online booking                    0\n",
       "Gate location                             0\n",
       "Food and drink                            0\n",
       "Online boarding                           0\n",
       "Seat comfort                              0\n",
       "Inflight entertainment                    0\n",
       "On-board service                          0\n",
       "Leg room service                          0\n",
       "Baggage handling                          0\n",
       "Checkin service                           0\n",
       "Inflight service                          0\n",
       "Cleanliness                               0\n",
       "Departure Delay in Minutes                0\n",
       "Arrival Delay in Minutes                128\n",
       "Gender_Female                             0\n",
       "Gender_Male                               0\n",
       "Customer Type_Loyal Customer              0\n",
       "Customer Type_disloyal Customer           0\n",
       "Type of Travel_Business travel            0\n",
       "Type of Travel_Personal Travel            0\n",
       "Class_Business                            0\n",
       "Class_Eco                                 0\n",
       "Class_Eco Plus                            0\n",
       "satisfaction_neutral or dissatisfied      0\n",
       "satisfaction_satisfied                    0\n",
       "dtype: int64"
      ]
     },
     "execution_count": 97,
     "metadata": {},
     "output_type": "execute_result"
    }
   ],
   "source": [
    "df_train.isnull().sum()"
   ]
  },
  {
   "cell_type": "code",
   "execution_count": 98,
   "metadata": {},
   "outputs": [],
   "source": [
    "columns_with_nan = ['Arrival Delay in Minutes']"
   ]
  },
  {
   "cell_type": "code",
   "execution_count": 99,
   "metadata": {},
   "outputs": [
    {
     "data": {
      "text/html": [
       "<div>\n",
       "<style scoped>\n",
       "    .dataframe tbody tr th:only-of-type {\n",
       "        vertical-align: middle;\n",
       "    }\n",
       "\n",
       "    .dataframe tbody tr th {\n",
       "        vertical-align: top;\n",
       "    }\n",
       "\n",
       "    .dataframe thead th {\n",
       "        text-align: right;\n",
       "    }\n",
       "</style>\n",
       "<table border=\"1\" class=\"dataframe\">\n",
       "  <thead>\n",
       "    <tr style=\"text-align: right;\">\n",
       "      <th></th>\n",
       "      <th>Arrival Delay in Minutes</th>\n",
       "    </tr>\n",
       "  </thead>\n",
       "  <tbody>\n",
       "    <tr>\n",
       "      <th>count</th>\n",
       "      <td>41433.000000</td>\n",
       "    </tr>\n",
       "    <tr>\n",
       "      <th>mean</th>\n",
       "      <td>15.176840</td>\n",
       "    </tr>\n",
       "    <tr>\n",
       "      <th>std</th>\n",
       "      <td>38.649157</td>\n",
       "    </tr>\n",
       "    <tr>\n",
       "      <th>min</th>\n",
       "      <td>0.000000</td>\n",
       "    </tr>\n",
       "    <tr>\n",
       "      <th>25%</th>\n",
       "      <td>0.000000</td>\n",
       "    </tr>\n",
       "    <tr>\n",
       "      <th>50%</th>\n",
       "      <td>0.000000</td>\n",
       "    </tr>\n",
       "    <tr>\n",
       "      <th>75%</th>\n",
       "      <td>13.000000</td>\n",
       "    </tr>\n",
       "    <tr>\n",
       "      <th>max</th>\n",
       "      <td>1280.000000</td>\n",
       "    </tr>\n",
       "  </tbody>\n",
       "</table>\n",
       "</div>"
      ],
      "text/plain": [
       "       Arrival Delay in Minutes\n",
       "count              41433.000000\n",
       "mean                  15.176840\n",
       "std                   38.649157\n",
       "min                    0.000000\n",
       "25%                    0.000000\n",
       "50%                    0.000000\n",
       "75%                   13.000000\n",
       "max                 1280.000000"
      ]
     },
     "execution_count": 99,
     "metadata": {},
     "output_type": "execute_result"
    }
   ],
   "source": [
    "df_train[columns_with_nan].describe()"
   ]
  },
  {
   "cell_type": "code",
   "execution_count": 100,
   "metadata": {},
   "outputs": [
    {
     "data": {
      "text/plain": [
       "array([[<Axes: title={'center': 'Arrival Delay in Minutes'}>]],\n",
       "      dtype=object)"
      ]
     },
     "execution_count": 100,
     "metadata": {},
     "output_type": "execute_result"
    },
    {
     "data": {
      "image/png": "[encoded data removed]",
      "text/plain": [
       "<Figure size 640x480 with 1 Axes>"
      ]
     },
     "metadata": {},
     "output_type": "display_data"
    }
   ],
   "source": [
    "df_train[columns_with_nan].hist()"
   ]
  },
  {
   "cell_type": "code",
   "execution_count": 101,
   "metadata": {},
   "outputs": [],
   "source": [
    "from sklearn.impute import KNNImputer"
   ]
  },
  {
   "cell_type": "code",
   "execution_count": 102,
   "metadata": {},
   "outputs": [],
   "source": [
    "# Use KNNImputer to fill NaN values\n",
    "imputer = KNNImputer(n_neighbors=3)\n",
    "filled_data = imputer.fit_transform(df_train)"
   ]
  },
  {
   "cell_type": "code",
   "execution_count": 103,
   "metadata": {},
   "outputs": [],
   "source": [
    "# Fill NaN with mean for each column\n",
    "df_mean_filled = df_train.apply(lambda x: x.fillna(x.mean()), axis=0)\n",
    "\n",
    "# Fill NaN with median for each column\n",
    "df_median_filled = df_train.apply(lambda x: x.fillna(x.median()), axis=0)\n",
    "\n",
    "# Fill NaN with KNN\n",
    "df_knn_filled = pd.DataFrame(filled_data, columns=df_train.columns)"
   ]
  },
  {
   "cell_type": "code",
   "execution_count": 104,
   "metadata": {},
   "outputs": [],
   "source": [
    "# Calculate original Spearman correlation matrix\n",
    "spearman_corr_original = df_train.corr(method='spearman')"
   ]
  },
  {
   "cell_type": "code",
   "execution_count": 105,
   "metadata": {},
   "outputs": [],
   "source": [
    "# Calculate Spearman correlation for each filled DataFrame\n",
    "spearman_corr_mean_filled = df_mean_filled.corr(method='spearman')\n",
    "spearman_corr_median_filled = df_median_filled.corr(method='spearman')\n",
    "spearman_corr_knn_filled = df_knn_filled.corr(method='spearman')"
   ]
  },
  {
   "cell_type": "code",
   "execution_count": 106,
   "metadata": {},
   "outputs": [],
   "source": [
    "# Calculate the mean differences for each column\n",
    "mean_diff_mean = spearman_corr_mean_filled[columns_with_nan].sub(spearman_corr_original[columns_with_nan], axis=0).abs().mean()\n",
    "mean_diff_median = spearman_corr_median_filled[columns_with_nan].sub(spearman_corr_original[columns_with_nan], axis=0).abs().mean()\n",
    "mean_diff_knn = spearman_corr_knn_filled[columns_with_nan].sub(spearman_corr_original[columns_with_nan], axis=0).abs().mean()"
   ]
  },
  {
   "cell_type": "code",
   "execution_count": 107,
   "metadata": {},
   "outputs": [],
   "source": [
    "# Determine the best approach for each column\n",
    "best_approach = pd.DataFrame({\n",
    "    'mean': mean_diff_mean,\n",
    "    'median': mean_diff_median,\n",
    "    'KNN': mean_diff_knn\n",
    "})"
   ]
  },
  {
   "cell_type": "code",
   "execution_count": 108,
   "metadata": {},
   "outputs": [
    {
     "data": {
      "text/html": [
       "<div>\n",
       "<style scoped>\n",
       "    .dataframe tbody tr th:only-of-type {\n",
       "        vertical-align: middle;\n",
       "    }\n",
       "\n",
       "    .dataframe tbody tr th {\n",
       "        vertical-align: top;\n",
       "    }\n",
       "\n",
       "    .dataframe thead th {\n",
       "        text-align: right;\n",
       "    }\n",
       "</style>\n",
       "<table border=\"1\" class=\"dataframe\">\n",
       "  <thead>\n",
       "    <tr style=\"text-align: right;\">\n",
       "      <th></th>\n",
       "      <th>mean</th>\n",
       "      <th>median</th>\n",
       "      <th>KNN</th>\n",
       "    </tr>\n",
       "  </thead>\n",
       "  <tbody>\n",
       "    <tr>\n",
       "      <th>Arrival Delay in Minutes</th>\n",
       "      <td>0.000248</td>\n",
       "      <td>0.000317</td>\n",
       "      <td>0.000254</td>\n",
       "    </tr>\n",
       "  </tbody>\n",
       "</table>\n",
       "</div>"
      ],
      "text/plain": [
       "                              mean    median       KNN\n",
       "Arrival Delay in Minutes  0.000248  0.000317  0.000254"
      ]
     },
     "execution_count": 108,
     "metadata": {},
     "output_type": "execute_result"
    }
   ],
   "source": [
    "best_approach"
   ]
  },
  {
   "cell_type": "code",
   "execution_count": 109,
   "metadata": {},
   "outputs": [
    {
     "data": {
      "text/plain": [
       "Arrival Delay in Minutes    mean\n",
       "dtype: object"
      ]
     },
     "execution_count": 109,
     "metadata": {},
     "output_type": "execute_result"
    }
   ],
   "source": [
    "best_approach.idxmin(axis=1)"
   ]
  },
  {
   "cell_type": "code",
   "execution_count": 110,
   "metadata": {},
   "outputs": [
    {
     "data": {
      "text/html": [
       "<div>\n",
       "<style scoped>\n",
       "    .dataframe tbody tr th:only-of-type {\n",
       "        vertical-align: middle;\n",
       "    }\n",
       "\n",
       "    .dataframe tbody tr th {\n",
       "        vertical-align: top;\n",
       "    }\n",
       "\n",
       "    .dataframe thead th {\n",
       "        text-align: right;\n",
       "    }\n",
       "</style>\n",
       "<table border=\"1\" class=\"dataframe\">\n",
       "  <thead>\n",
       "    <tr style=\"text-align: right;\">\n",
       "      <th></th>\n",
       "      <th>mean_diff</th>\n",
       "      <th>std_diff</th>\n",
       "    </tr>\n",
       "  </thead>\n",
       "  <tbody>\n",
       "    <tr>\n",
       "      <th>Arrival Delay in Minutes</th>\n",
       "      <td>0.0</td>\n",
       "      <td>-0.059563</td>\n",
       "    </tr>\n",
       "  </tbody>\n",
       "</table>\n",
       "</div>"
      ],
      "text/plain": [
       "                          mean_diff  std_diff\n",
       "Arrival Delay in Minutes        0.0 -0.059563"
      ]
     },
     "execution_count": 110,
     "metadata": {},
     "output_type": "execute_result"
    }
   ],
   "source": [
    "# Calculate descriptive statistics for the original DataFrame\n",
    "original_stats = df_train[columns_with_nan].describe()\n",
    "\n",
    "# Calculate descriptive statistics for the filled DataFrame\n",
    "filled_stats_mean = df_mean_filled[columns_with_nan].describe()\n",
    "\n",
    "# Calculate the differences in means\n",
    "mean_diff = filled_stats_mean.loc['mean'] - original_stats.loc['mean']\n",
    "\n",
    "# Calculate the differences in standard deviations\n",
    "std_diff = filled_stats_mean.loc['std'] - original_stats.loc['std']\n",
    "\n",
    "# Create a DataFrame to display the differences\n",
    "diff_df = pd.DataFrame({\n",
    "    'mean_diff': mean_diff,\n",
    "    'std_diff': std_diff\n",
    "})\n",
    "diff_df"
   ]
  },
  {
   "cell_type": "code",
   "execution_count": 111,
   "metadata": {},
   "outputs": [
    {
     "data": {
      "text/html": [
       "<div>\n",
       "<style scoped>\n",
       "    .dataframe tbody tr th:only-of-type {\n",
       "        vertical-align: middle;\n",
       "    }\n",
       "\n",
       "    .dataframe tbody tr th {\n",
       "        vertical-align: top;\n",
       "    }\n",
       "\n",
       "    .dataframe thead th {\n",
       "        text-align: right;\n",
       "    }\n",
       "</style>\n",
       "<table border=\"1\" class=\"dataframe\">\n",
       "  <thead>\n",
       "    <tr style=\"text-align: right;\">\n",
       "      <th></th>\n",
       "      <th>mean_diff</th>\n",
       "      <th>std_diff</th>\n",
       "    </tr>\n",
       "  </thead>\n",
       "  <tbody>\n",
       "    <tr>\n",
       "      <th>Arrival Delay in Minutes</th>\n",
       "      <td>-0.046742</td>\n",
       "      <td>-0.050401</td>\n",
       "    </tr>\n",
       "  </tbody>\n",
       "</table>\n",
       "</div>"
      ],
      "text/plain": [
       "                          mean_diff  std_diff\n",
       "Arrival Delay in Minutes  -0.046742 -0.050401"
      ]
     },
     "execution_count": 111,
     "metadata": {},
     "output_type": "execute_result"
    }
   ],
   "source": [
    "# Calculate descriptive statistics for the original DataFrame\n",
    "original_stats = df_train[columns_with_nan].describe()\n",
    "\n",
    "# Calculate descriptive statistics for the filled DataFrame\n",
    "filled_stats_median = df_median_filled[columns_with_nan].describe()\n",
    "\n",
    "# Calculate the differences in means\n",
    "mean_diff = filled_stats_median.loc['mean'] - original_stats.loc['mean']\n",
    "\n",
    "# Calculate the differences in standard deviations\n",
    "std_diff = filled_stats_median.loc['std'] - original_stats.loc['std']\n",
    "\n",
    "# Create a DataFrame to display the differences\n",
    "diff_df = pd.DataFrame({\n",
    "    'mean_diff': mean_diff,\n",
    "    'std_diff': std_diff\n",
    "})\n",
    "diff_df"
   ]
  },
  {
   "cell_type": "code",
   "execution_count": 112,
   "metadata": {},
   "outputs": [
    {
     "data": {
      "text/html": [
       "<div>\n",
       "<style scoped>\n",
       "    .dataframe tbody tr th:only-of-type {\n",
       "        vertical-align: middle;\n",
       "    }\n",
       "\n",
       "    .dataframe tbody tr th {\n",
       "        vertical-align: top;\n",
       "    }\n",
       "\n",
       "    .dataframe thead th {\n",
       "        text-align: right;\n",
       "    }\n",
       "</style>\n",
       "<table border=\"1\" class=\"dataframe\">\n",
       "  <thead>\n",
       "    <tr style=\"text-align: right;\">\n",
       "      <th></th>\n",
       "      <th>mean_diff</th>\n",
       "      <th>std_diff</th>\n",
       "    </tr>\n",
       "  </thead>\n",
       "  <tbody>\n",
       "    <tr>\n",
       "      <th>Arrival Delay in Minutes</th>\n",
       "      <td>0.048468</td>\n",
       "      <td>0.047939</td>\n",
       "    </tr>\n",
       "  </tbody>\n",
       "</table>\n",
       "</div>"
      ],
      "text/plain": [
       "                          mean_diff  std_diff\n",
       "Arrival Delay in Minutes   0.048468  0.047939"
      ]
     },
     "execution_count": 112,
     "metadata": {},
     "output_type": "execute_result"
    }
   ],
   "source": [
    "# Calculate descriptive statistics for the original DataFrame\n",
    "original_stats = df_train[columns_with_nan].describe()\n",
    "\n",
    "# Calculate descriptive statistics for the filled DataFrame\n",
    "filled_stats_knn = df_knn_filled[columns_with_nan].describe()\n",
    "\n",
    "# Calculate the differences in means\n",
    "mean_diff = filled_stats_knn.loc['mean'] - original_stats.loc['mean']\n",
    "\n",
    "# Calculate the differences in standard deviations\n",
    "std_diff = filled_stats_knn.loc['std'] - original_stats.loc['std']\n",
    "\n",
    "# Create a DataFrame to display the differences\n",
    "diff_df = pd.DataFrame({\n",
    "    'mean_diff': mean_diff,\n",
    "    'std_diff': std_diff\n",
    "})\n",
    "diff_df"
   ]
  },
  {
   "cell_type": "code",
   "execution_count": 113,
   "metadata": {},
   "outputs": [],
   "source": [
    "df_train['Arrival Delay in Minutes'] = df_knn_filled['Arrival Delay in Minutes'].tolist()"
   ]
  },
  {
   "cell_type": "code",
   "execution_count": 114,
   "metadata": {},
   "outputs": [
    {
     "data": {
      "text/plain": [
       "Age                                     0\n",
       "Flight Distance                         0\n",
       "Inflight wifi service                   0\n",
       "Departure/Arrival time convenient       0\n",
       "Ease of Online booking                  0\n",
       "Gate location                           0\n",
       "Food and drink                          0\n",
       "Online boarding                         0\n",
       "Seat comfort                            0\n",
       "Inflight entertainment                  0\n",
       "On-board service                        0\n",
       "Leg room service                        0\n",
       "Baggage handling                        0\n",
       "Checkin service                         0\n",
       "Inflight service                        0\n",
       "Cleanliness                             0\n",
       "Departure Delay in Minutes              0\n",
       "Arrival Delay in Minutes                0\n",
       "Gender_Female                           0\n",
       "Gender_Male                             0\n",
       "Customer Type_Loyal Customer            0\n",
       "Customer Type_disloyal Customer         0\n",
       "Type of Travel_Business travel          0\n",
       "Type of Travel_Personal Travel          0\n",
       "Class_Business                          0\n",
       "Class_Eco                               0\n",
       "Class_Eco Plus                          0\n",
       "satisfaction_neutral or dissatisfied    0\n",
       "satisfaction_satisfied                  0\n",
       "dtype: int64"
      ]
     },
     "execution_count": 114,
     "metadata": {},
     "output_type": "execute_result"
    }
   ],
   "source": [
    "df_train.isnull().sum()"
   ]
  },
  {
   "cell_type": "code",
   "execution_count": 115,
   "metadata": {},
   "outputs": [],
   "source": [
    "# List of original categorical columns\n",
    "original_columns = ['Gender', 'Customer Type', 'Type of Travel', 'Class', 'satisfaction']\n",
    "\n",
    "# Reverting one-hot encoding\n",
    "for column in original_columns:\n",
    "    # Extract the one-hot columns related to the original column\n",
    "    one_hot_columns = [col for col in df_train.columns if col.startswith(column)]\n",
    "    \n",
    "    # Determine the original categorical values\n",
    "    df_train[column] = df_train[one_hot_columns].idxmax(axis=1).apply(lambda x: x.replace(column + '_', ''))\n",
    "    \n",
    "    # Drop the one-hot columns\n",
    "    df_train = df_train.drop(columns=one_hot_columns)"
   ]
  },
  {
   "cell_type": "code",
   "execution_count": 116,
   "metadata": {},
   "outputs": [
    {
     "data": {
      "text/html": [
       "<div>\n",
       "<style scoped>\n",
       "    .dataframe tbody tr th:only-of-type {\n",
       "        vertical-align: middle;\n",
       "    }\n",
       "\n",
       "    .dataframe tbody tr th {\n",
       "        vertical-align: top;\n",
       "    }\n",
       "\n",
       "    .dataframe thead th {\n",
       "        text-align: right;\n",
       "    }\n",
       "</style>\n",
       "<table border=\"1\" class=\"dataframe\">\n",
       "  <thead>\n",
       "    <tr style=\"text-align: right;\">\n",
       "      <th></th>\n",
       "      <th>Age</th>\n",
       "      <th>Flight Distance</th>\n",
       "      <th>Inflight wifi service</th>\n",
       "      <th>Departure/Arrival time convenient</th>\n",
       "      <th>Ease of Online booking</th>\n",
       "      <th>Gate location</th>\n",
       "      <th>Food and drink</th>\n",
       "      <th>Online boarding</th>\n",
       "      <th>Seat comfort</th>\n",
       "      <th>Inflight entertainment</th>\n",
       "      <th>...</th>\n",
       "      <th>Checkin service</th>\n",
       "      <th>Inflight service</th>\n",
       "      <th>Cleanliness</th>\n",
       "      <th>Departure Delay in Minutes</th>\n",
       "      <th>Arrival Delay in Minutes</th>\n",
       "      <th>Gender</th>\n",
       "      <th>Customer Type</th>\n",
       "      <th>Type of Travel</th>\n",
       "      <th>Class</th>\n",
       "      <th>satisfaction</th>\n",
       "    </tr>\n",
       "  </thead>\n",
       "  <tbody>\n",
       "    <tr>\n",
       "      <th>266</th>\n",
       "      <td>37</td>\n",
       "      <td>1801</td>\n",
       "      <td>2</td>\n",
       "      <td>4</td>\n",
       "      <td>3</td>\n",
       "      <td>3</td>\n",
       "      <td>4</td>\n",
       "      <td>4</td>\n",
       "      <td>3</td>\n",
       "      <td>2</td>\n",
       "      <td>...</td>\n",
       "      <td>1</td>\n",
       "      <td>2</td>\n",
       "      <td>4</td>\n",
       "      <td>0</td>\n",
       "      <td>0.0</td>\n",
       "      <td>Female</td>\n",
       "      <td>Loyal Customer</td>\n",
       "      <td>Business travel</td>\n",
       "      <td>Business</td>\n",
       "      <td>neutral or dissatisfied</td>\n",
       "    </tr>\n",
       "    <tr>\n",
       "      <th>62627</th>\n",
       "      <td>25</td>\n",
       "      <td>2174</td>\n",
       "      <td>2</td>\n",
       "      <td>4</td>\n",
       "      <td>4</td>\n",
       "      <td>4</td>\n",
       "      <td>2</td>\n",
       "      <td>2</td>\n",
       "      <td>2</td>\n",
       "      <td>2</td>\n",
       "      <td>...</td>\n",
       "      <td>2</td>\n",
       "      <td>4</td>\n",
       "      <td>2</td>\n",
       "      <td>0</td>\n",
       "      <td>0.0</td>\n",
       "      <td>Male</td>\n",
       "      <td>Loyal Customer</td>\n",
       "      <td>Business travel</td>\n",
       "      <td>Business</td>\n",
       "      <td>neutral or dissatisfied</td>\n",
       "    </tr>\n",
       "    <tr>\n",
       "      <th>61446</th>\n",
       "      <td>66</td>\n",
       "      <td>1947</td>\n",
       "      <td>1</td>\n",
       "      <td>2</td>\n",
       "      <td>5</td>\n",
       "      <td>5</td>\n",
       "      <td>1</td>\n",
       "      <td>1</td>\n",
       "      <td>1</td>\n",
       "      <td>1</td>\n",
       "      <td>...</td>\n",
       "      <td>1</td>\n",
       "      <td>3</td>\n",
       "      <td>1</td>\n",
       "      <td>0</td>\n",
       "      <td>0.0</td>\n",
       "      <td>Male</td>\n",
       "      <td>Loyal Customer</td>\n",
       "      <td>Business travel</td>\n",
       "      <td>Eco</td>\n",
       "      <td>neutral or dissatisfied</td>\n",
       "    </tr>\n",
       "    <tr>\n",
       "      <th>64495</th>\n",
       "      <td>52</td>\n",
       "      <td>680</td>\n",
       "      <td>2</td>\n",
       "      <td>5</td>\n",
       "      <td>2</td>\n",
       "      <td>4</td>\n",
       "      <td>5</td>\n",
       "      <td>5</td>\n",
       "      <td>5</td>\n",
       "      <td>1</td>\n",
       "      <td>...</td>\n",
       "      <td>3</td>\n",
       "      <td>1</td>\n",
       "      <td>5</td>\n",
       "      <td>77</td>\n",
       "      <td>67.0</td>\n",
       "      <td>Female</td>\n",
       "      <td>Loyal Customer</td>\n",
       "      <td>Personal Travel</td>\n",
       "      <td>Eco</td>\n",
       "      <td>neutral or dissatisfied</td>\n",
       "    </tr>\n",
       "    <tr>\n",
       "      <th>69454</th>\n",
       "      <td>45</td>\n",
       "      <td>416</td>\n",
       "      <td>3</td>\n",
       "      <td>0</td>\n",
       "      <td>3</td>\n",
       "      <td>2</td>\n",
       "      <td>2</td>\n",
       "      <td>3</td>\n",
       "      <td>2</td>\n",
       "      <td>2</td>\n",
       "      <td>...</td>\n",
       "      <td>4</td>\n",
       "      <td>4</td>\n",
       "      <td>2</td>\n",
       "      <td>18</td>\n",
       "      <td>1.0</td>\n",
       "      <td>Female</td>\n",
       "      <td>disloyal Customer</td>\n",
       "      <td>Business travel</td>\n",
       "      <td>Eco</td>\n",
       "      <td>neutral or dissatisfied</td>\n",
       "    </tr>\n",
       "  </tbody>\n",
       "</table>\n",
       "<p>5 rows × 23 columns</p>\n",
       "</div>"
      ],
      "text/plain": [
       "       Age  Flight Distance  Inflight wifi service  \\\n",
       "266     37             1801                      2   \n",
       "62627   25             2174                      2   \n",
       "61446   66             1947                      1   \n",
       "64495   52              680                      2   \n",
       "69454   45              416                      3   \n",
       "\n",
       "       Departure/Arrival time convenient  Ease of Online booking  \\\n",
       "266                                    4                       3   \n",
       "62627                                  4                       4   \n",
       "61446                                  2                       5   \n",
       "64495                                  5                       2   \n",
       "69454                                  0                       3   \n",
       "\n",
       "       Gate location  Food and drink  Online boarding  Seat comfort  \\\n",
       "266                3               4                4             3   \n",
       "62627              4               2                2             2   \n",
       "61446              5               1                1             1   \n",
       "64495              4               5                5             5   \n",
       "69454              2               2                3             2   \n",
       "\n",
       "       Inflight entertainment  ...  Checkin service  Inflight service  \\\n",
       "266                         2  ...                1                 2   \n",
       "62627                       2  ...                2                 4   \n",
       "61446                       1  ...                1                 3   \n",
       "64495                       1  ...                3                 1   \n",
       "69454                       2  ...                4                 4   \n",
       "\n",
       "       Cleanliness  Departure Delay in Minutes  Arrival Delay in Minutes  \\\n",
       "266              4                           0                       0.0   \n",
       "62627            2                           0                       0.0   \n",
       "61446            1                           0                       0.0   \n",
       "64495            5                          77                      67.0   \n",
       "69454            2                          18                       1.0   \n",
       "\n",
       "       Gender      Customer Type   Type of Travel     Class  \\\n",
       "266    Female     Loyal Customer  Business travel  Business   \n",
       "62627    Male     Loyal Customer  Business travel  Business   \n",
       "61446    Male     Loyal Customer  Business travel       Eco   \n",
       "64495  Female     Loyal Customer  Personal Travel       Eco   \n",
       "69454  Female  disloyal Customer  Business travel       Eco   \n",
       "\n",
       "                  satisfaction  \n",
       "266    neutral or dissatisfied  \n",
       "62627  neutral or dissatisfied  \n",
       "61446  neutral or dissatisfied  \n",
       "64495  neutral or dissatisfied  \n",
       "69454  neutral or dissatisfied  \n",
       "\n",
       "[5 rows x 23 columns]"
      ]
     },
     "execution_count": 116,
     "metadata": {},
     "output_type": "execute_result"
    }
   ],
   "source": [
    "df_train.head()"
   ]
  },
  {
   "cell_type": "code",
   "execution_count": 117,
   "metadata": {},
   "outputs": [
    {
     "data": {
      "text/plain": [
       "Index(['Age', 'Flight Distance', 'Inflight wifi service',\n",
       "       'Departure/Arrival time convenient', 'Ease of Online booking',\n",
       "       'Gate location', 'Food and drink', 'Online boarding', 'Seat comfort',\n",
       "       'Inflight entertainment', 'On-board service', 'Leg room service',\n",
       "       'Baggage handling', 'Checkin service', 'Inflight service',\n",
       "       'Cleanliness', 'Departure Delay in Minutes', 'Arrival Delay in Minutes',\n",
       "       'Gender', 'Customer Type', 'Type of Travel', 'Class', 'satisfaction'],\n",
       "      dtype='object')"
      ]
     },
     "execution_count": 117,
     "metadata": {},
     "output_type": "execute_result"
    }
   ],
   "source": [
    "df_train.columns"
   ]
  },
  {
   "cell_type": "code",
   "execution_count": 118,
   "metadata": {},
   "outputs": [
    {
     "data": {
      "text/plain": [
       "<Axes: xlabel='satisfaction', ylabel='count'>"
      ]
     },
     "execution_count": 118,
     "metadata": {},
     "output_type": "execute_result"
    },
    {
     "data": {
      "image/png": "[encoded data removed]",
      "text/plain": [
       "<Figure size 640x480 with 1 Axes>"
      ]
     },
     "metadata": {},
     "output_type": "display_data"
    }
   ],
   "source": [
    "sns.countplot(df_train,x='satisfaction')"
   ]
  },
  {
   "cell_type": "markdown",
   "metadata": {},
   "source": [
    "# Analisando correlação entre as features"
   ]
  },
  {
   "cell_type": "code",
   "execution_count": 119,
   "metadata": {},
   "outputs": [],
   "source": [
    "def get_highly_correlated_features(correlation_matrix, threshold):\n",
    "  correlated_pairs = []\n",
    "  for i in range(len(correlation_matrix.columns)):\n",
    "    for j in range(i):\n",
    "      if abs(correlation_matrix.iloc[i, j]) > threshold:\n",
    "        pair = (correlation_matrix.columns[i], correlation_matrix.columns[j])\n",
    "        coefficient = correlation_matrix.iloc[i, j]\n",
    "        correlated_pairs.append((pair, coefficient))\n",
    "  return sorted(correlated_pairs, key= lambda pair: pair[1], reverse=True)"
   ]
  },
  {
   "cell_type": "code",
   "execution_count": 120,
   "metadata": {},
   "outputs": [
    {
     "name": "stderr",
     "output_type": "stream",
     "text": [
      "/var/folders/fs/f8qz96w55l1cqqbyb70x11380000gn/T/ipykernel_80620/3463624430.py:1: FutureWarning: The default value of numeric_only in DataFrame.corr is deprecated. In a future version, it will default to False. Select only valid columns or specify the value of numeric_only to silence this warning.\n",
      "  corr_matrix = df_train.corr().abs()\n"
     ]
    }
   ],
   "source": [
    "corr_matrix = df_train.corr().abs()\n",
    "correlation_list = get_highly_correlated_features(corr_matrix, 0.95)"
   ]
  },
  {
   "cell_type": "code",
   "execution_count": 121,
   "metadata": {},
   "outputs": [
    {
     "data": {
      "text/plain": [
       "[(('Arrival Delay in Minutes', 'Departure Delay in Minutes'),\n",
       "  0.9657967529255008)]"
      ]
     },
     "execution_count": 121,
     "metadata": {},
     "output_type": "execute_result"
    }
   ],
   "source": [
    "correlation_list[:10]"
   ]
  },
  {
   "cell_type": "code",
   "execution_count": 122,
   "metadata": {},
   "outputs": [],
   "source": [
    "# Drop high correlated features in correlation list\n",
    "f2drop = []\n",
    "for feature_pair, _ in correlation_list:\n",
    "  if feature_pair[0] not in f2drop and feature_pair[1] not in f2drop:\n",
    "    f2drop.append(feature_pair[1])"
   ]
  },
  {
   "cell_type": "code",
   "execution_count": 123,
   "metadata": {},
   "outputs": [],
   "source": [
    "df_train = df_train.drop(f2drop, axis='columns')\n",
    "df_val = df_val.drop(f2drop, axis='columns')"
   ]
  },
  {
   "cell_type": "markdown",
   "metadata": {},
   "source": [
    "# Normalizando os valores"
   ]
  },
  {
   "cell_type": "code",
   "execution_count": 124,
   "metadata": {},
   "outputs": [],
   "source": [
    "from sklearn.preprocessing import MinMaxScaler\n",
    "from sklearn.preprocessing import OneHotEncoder"
   ]
  },
  {
   "cell_type": "code",
   "execution_count": 125,
   "metadata": {},
   "outputs": [],
   "source": [
    "# Identify categorical columns for one-hot encoding\n",
    "categorical_columns = df_train.select_dtypes(include=['object']).columns.tolist()\n",
    "\n",
    "# Initialize OneHotEncoder and fit it on the training data\n",
    "encoder = OneHotEncoder(sparse_output=False, drop='first',  handle_unknown='ignore')\n",
    "encoder.fit(df_train[categorical_columns])\n",
    "\n",
    "# Transform the training data\n",
    "train_encoded = encoder.transform(df_train[categorical_columns])\n",
    "train_encoded_df = pd.DataFrame(train_encoded, columns=encoder.get_feature_names_out(categorical_columns))\n",
    "\n",
    "# Drop original categorical columns and merge the encoded columns in train data\n",
    "df_train = df_train.drop(columns=categorical_columns).reset_index(drop=True)\n",
    "df_train = pd.concat([df_train, train_encoded_df], axis=1)\n",
    "\n",
    "# Identify numerical columns for normalization\n",
    "numerical_columns = df_train.select_dtypes(include=['float64', 'int64']).columns.tolist()\n",
    "\n",
    "# Initialize StandardScaler and fit it on the training data\n",
    "scaler = MinMaxScaler()\n",
    "scaler.fit(df_train[numerical_columns])\n",
    "\n",
    "# Transform the numerical columns in the training data\n",
    "train_normalized = scaler.transform(df_train[numerical_columns])\n",
    "train_normalized_df = pd.DataFrame(train_normalized, columns=numerical_columns)\n",
    "\n",
    "# Merge the normalized columns in train data\n",
    "df_train = pd.concat([df_train.drop(columns=numerical_columns).reset_index(drop=True), train_normalized_df], axis=1)"
   ]
  },
  {
   "cell_type": "code",
   "execution_count": 126,
   "metadata": {},
   "outputs": [],
   "source": [
    "# Function to transform validation and test data using the fitted encoder and scaler\n",
    "def transform_data(df, encoder, scaler, categorical_columns, numerical_columns, reference_columns):\n",
    "    encoded = encoder.transform(df[categorical_columns])\n",
    "    encoded_df = pd.DataFrame(encoded, columns=encoder.get_feature_names_out(categorical_columns))\n",
    "    \n",
    "    df = df.drop(columns=categorical_columns).reset_index(drop=True)\n",
    "    df = pd.concat([df, encoded_df], axis=1)\n",
    "\n",
    "    # Add missing columns with zero values\n",
    "    for col in reference_columns:\n",
    "        if col not in df.columns:\n",
    "            df[col] = 0\n",
    "\n",
    "    # Ensure the order of columns matches the reference\n",
    "    df = df[reference_columns]\n",
    "\n",
    "    normalized = scaler.transform(df[numerical_columns])\n",
    "    normalized_df = pd.DataFrame(normalized, columns=numerical_columns)\n",
    "    \n",
    "    df = pd.concat([df.drop(columns=numerical_columns).reset_index(drop=True), normalized_df], axis=1)\n",
    "    return df\n",
    "\n",
    "# Get reference columns from the training data\n",
    "reference_columns = df_train.columns\n",
    "\n",
    "# Apply transformations to validation and test data\n",
    "df_val = transform_data(df_val, encoder, scaler, categorical_columns, numerical_columns, reference_columns)\n",
    "df_test = transform_data(df_test, encoder, scaler, categorical_columns, numerical_columns, reference_columns)"
   ]
  },
  {
   "cell_type": "code",
   "execution_count": 127,
   "metadata": {},
   "outputs": [
    {
     "data": {
      "text/html": [
       "<div>\n",
       "<style scoped>\n",
       "    .dataframe tbody tr th:only-of-type {\n",
       "        vertical-align: middle;\n",
       "    }\n",
       "\n",
       "    .dataframe tbody tr th {\n",
       "        vertical-align: top;\n",
       "    }\n",
       "\n",
       "    .dataframe thead th {\n",
       "        text-align: right;\n",
       "    }\n",
       "</style>\n",
       "<table border=\"1\" class=\"dataframe\">\n",
       "  <thead>\n",
       "    <tr style=\"text-align: right;\">\n",
       "      <th></th>\n",
       "      <th>Age</th>\n",
       "      <th>Flight Distance</th>\n",
       "      <th>Inflight wifi service</th>\n",
       "      <th>Departure/Arrival time convenient</th>\n",
       "      <th>Ease of Online booking</th>\n",
       "      <th>Gate location</th>\n",
       "      <th>Food and drink</th>\n",
       "      <th>Online boarding</th>\n",
       "      <th>Seat comfort</th>\n",
       "      <th>Inflight entertainment</th>\n",
       "      <th>...</th>\n",
       "      <th>Checkin service</th>\n",
       "      <th>Inflight service</th>\n",
       "      <th>Cleanliness</th>\n",
       "      <th>Arrival Delay in Minutes</th>\n",
       "      <th>Gender_Male</th>\n",
       "      <th>Customer Type_disloyal Customer</th>\n",
       "      <th>Type of Travel_Personal Travel</th>\n",
       "      <th>Class_Eco</th>\n",
       "      <th>Class_Eco Plus</th>\n",
       "      <th>satisfaction_satisfied</th>\n",
       "    </tr>\n",
       "  </thead>\n",
       "  <tbody>\n",
       "    <tr>\n",
       "      <th>0</th>\n",
       "      <td>0.384615</td>\n",
       "      <td>0.357431</td>\n",
       "      <td>0.4</td>\n",
       "      <td>0.8</td>\n",
       "      <td>0.6</td>\n",
       "      <td>0.50</td>\n",
       "      <td>0.8</td>\n",
       "      <td>0.8</td>\n",
       "      <td>0.50</td>\n",
       "      <td>0.4</td>\n",
       "      <td>...</td>\n",
       "      <td>0.00</td>\n",
       "      <td>0.4</td>\n",
       "      <td>0.8</td>\n",
       "      <td>0.000000</td>\n",
       "      <td>0.0</td>\n",
       "      <td>0.0</td>\n",
       "      <td>0.0</td>\n",
       "      <td>0.0</td>\n",
       "      <td>0.0</td>\n",
       "      <td>0.0</td>\n",
       "    </tr>\n",
       "    <tr>\n",
       "      <th>1</th>\n",
       "      <td>0.230769</td>\n",
       "      <td>0.432754</td>\n",
       "      <td>0.4</td>\n",
       "      <td>0.8</td>\n",
       "      <td>0.8</td>\n",
       "      <td>0.75</td>\n",
       "      <td>0.4</td>\n",
       "      <td>0.4</td>\n",
       "      <td>0.25</td>\n",
       "      <td>0.4</td>\n",
       "      <td>...</td>\n",
       "      <td>0.25</td>\n",
       "      <td>0.8</td>\n",
       "      <td>0.4</td>\n",
       "      <td>0.000000</td>\n",
       "      <td>1.0</td>\n",
       "      <td>0.0</td>\n",
       "      <td>0.0</td>\n",
       "      <td>0.0</td>\n",
       "      <td>0.0</td>\n",
       "      <td>0.0</td>\n",
       "    </tr>\n",
       "    <tr>\n",
       "      <th>2</th>\n",
       "      <td>0.756410</td>\n",
       "      <td>0.386914</td>\n",
       "      <td>0.2</td>\n",
       "      <td>0.4</td>\n",
       "      <td>1.0</td>\n",
       "      <td>1.00</td>\n",
       "      <td>0.2</td>\n",
       "      <td>0.2</td>\n",
       "      <td>0.00</td>\n",
       "      <td>0.2</td>\n",
       "      <td>...</td>\n",
       "      <td>0.00</td>\n",
       "      <td>0.6</td>\n",
       "      <td>0.2</td>\n",
       "      <td>0.000000</td>\n",
       "      <td>1.0</td>\n",
       "      <td>0.0</td>\n",
       "      <td>0.0</td>\n",
       "      <td>1.0</td>\n",
       "      <td>0.0</td>\n",
       "      <td>0.0</td>\n",
       "    </tr>\n",
       "    <tr>\n",
       "      <th>3</th>\n",
       "      <td>0.576923</td>\n",
       "      <td>0.131058</td>\n",
       "      <td>0.4</td>\n",
       "      <td>1.0</td>\n",
       "      <td>0.4</td>\n",
       "      <td>0.75</td>\n",
       "      <td>1.0</td>\n",
       "      <td>1.0</td>\n",
       "      <td>1.00</td>\n",
       "      <td>0.2</td>\n",
       "      <td>...</td>\n",
       "      <td>0.50</td>\n",
       "      <td>0.2</td>\n",
       "      <td>1.0</td>\n",
       "      <td>0.052344</td>\n",
       "      <td>0.0</td>\n",
       "      <td>0.0</td>\n",
       "      <td>1.0</td>\n",
       "      <td>1.0</td>\n",
       "      <td>0.0</td>\n",
       "      <td>0.0</td>\n",
       "    </tr>\n",
       "    <tr>\n",
       "      <th>4</th>\n",
       "      <td>0.487179</td>\n",
       "      <td>0.077746</td>\n",
       "      <td>0.6</td>\n",
       "      <td>0.0</td>\n",
       "      <td>0.6</td>\n",
       "      <td>0.25</td>\n",
       "      <td>0.4</td>\n",
       "      <td>0.6</td>\n",
       "      <td>0.25</td>\n",
       "      <td>0.4</td>\n",
       "      <td>...</td>\n",
       "      <td>0.75</td>\n",
       "      <td>0.8</td>\n",
       "      <td>0.4</td>\n",
       "      <td>0.000781</td>\n",
       "      <td>0.0</td>\n",
       "      <td>1.0</td>\n",
       "      <td>0.0</td>\n",
       "      <td>1.0</td>\n",
       "      <td>0.0</td>\n",
       "      <td>0.0</td>\n",
       "    </tr>\n",
       "  </tbody>\n",
       "</table>\n",
       "<p>5 rows × 23 columns</p>\n",
       "</div>"
      ],
      "text/plain": [
       "        Age  Flight Distance  Inflight wifi service  \\\n",
       "0  0.384615         0.357431                    0.4   \n",
       "1  0.230769         0.432754                    0.4   \n",
       "2  0.756410         0.386914                    0.2   \n",
       "3  0.576923         0.131058                    0.4   \n",
       "4  0.487179         0.077746                    0.6   \n",
       "\n",
       "   Departure/Arrival time convenient  Ease of Online booking  Gate location  \\\n",
       "0                                0.8                     0.6           0.50   \n",
       "1                                0.8                     0.8           0.75   \n",
       "2                                0.4                     1.0           1.00   \n",
       "3                                1.0                     0.4           0.75   \n",
       "4                                0.0                     0.6           0.25   \n",
       "\n",
       "   Food and drink  Online boarding  Seat comfort  Inflight entertainment  ...  \\\n",
       "0             0.8              0.8          0.50                     0.4  ...   \n",
       "1             0.4              0.4          0.25                     0.4  ...   \n",
       "2             0.2              0.2          0.00                     0.2  ...   \n",
       "3             1.0              1.0          1.00                     0.2  ...   \n",
       "4             0.4              0.6          0.25                     0.4  ...   \n",
       "\n",
       "   Checkin service  Inflight service  Cleanliness  Arrival Delay in Minutes  \\\n",
       "0             0.00               0.4          0.8                  0.000000   \n",
       "1             0.25               0.8          0.4                  0.000000   \n",
       "2             0.00               0.6          0.2                  0.000000   \n",
       "3             0.50               0.2          1.0                  0.052344   \n",
       "4             0.75               0.8          0.4                  0.000781   \n",
       "\n",
       "   Gender_Male  Customer Type_disloyal Customer  \\\n",
       "0          0.0                              0.0   \n",
       "1          1.0                              0.0   \n",
       "2          1.0                              0.0   \n",
       "3          0.0                              0.0   \n",
       "4          0.0                              1.0   \n",
       "\n",
       "   Type of Travel_Personal Travel  Class_Eco  Class_Eco Plus  \\\n",
       "0                             0.0        0.0             0.0   \n",
       "1                             0.0        0.0             0.0   \n",
       "2                             0.0        1.0             0.0   \n",
       "3                             1.0        1.0             0.0   \n",
       "4                             0.0        1.0             0.0   \n",
       "\n",
       "   satisfaction_satisfied  \n",
       "0                     0.0  \n",
       "1                     0.0  \n",
       "2                     0.0  \n",
       "3                     0.0  \n",
       "4                     0.0  \n",
       "\n",
       "[5 rows x 23 columns]"
      ]
     },
     "execution_count": 127,
     "metadata": {},
     "output_type": "execute_result"
    }
   ],
   "source": [
    "df_train.head()"
   ]
  },
  {
   "cell_type": "code",
   "execution_count": 128,
   "metadata": {},
   "outputs": [
    {
     "data": {
      "text/plain": [
       "Index(['Age', 'Flight Distance', 'Inflight wifi service',\n",
       "       'Departure/Arrival time convenient', 'Ease of Online booking',\n",
       "       'Gate location', 'Food and drink', 'Online boarding', 'Seat comfort',\n",
       "       'Inflight entertainment', 'On-board service', 'Leg room service',\n",
       "       'Baggage handling', 'Checkin service', 'Inflight service',\n",
       "       'Cleanliness', 'Arrival Delay in Minutes', 'Gender_Male',\n",
       "       'Customer Type_disloyal Customer', 'Type of Travel_Personal Travel',\n",
       "       'Class_Eco', 'Class_Eco Plus', 'satisfaction_satisfied'],\n",
       "      dtype='object')"
      ]
     },
     "execution_count": 128,
     "metadata": {},
     "output_type": "execute_result"
    }
   ],
   "source": [
    "df_train.columns"
   ]
  },
  {
   "cell_type": "code",
   "execution_count": 129,
   "metadata": {},
   "outputs": [],
   "source": [
    "X_train = df_train.drop(columns=['satisfaction_satisfied'])\n",
    "y_train = df_train['satisfaction_satisfied'].tolist()\n",
    "\n",
    "X_val = df_val.drop(columns=['satisfaction_satisfied'])\n",
    "y_val = df_val['satisfaction_satisfied'].tolist()\n",
    "\n",
    "X_test = df_test.drop(columns=['satisfaction_satisfied'])\n",
    "y_test = df_test['satisfaction_satisfied'].tolist()"
   ]
  },
  {
   "cell_type": "markdown",
   "metadata": {},
   "source": [
    "# Random Forest"
   ]
  },
  {
   "cell_type": "code",
   "execution_count": 72,
   "metadata": {},
   "outputs": [],
   "source": [
    "from sklearn.ensemble import RandomForestClassifier\n",
    "from sklearn.metrics import roc_curve, roc_auc_score\n",
    "from sklearn.metrics import confusion_matrix"
   ]
  },
  {
   "cell_type": "code",
   "execution_count": 120,
   "metadata": {},
   "outputs": [],
   "source": [
    "n_estimators = 100\n",
    "max_depth = None\n",
    "max_features = 1\n",
    "bootstrap = True\n",
    "\n",
    "model_rforest = RandomForestClassifier(n_estimators=n_estimators, max_depth=max_depth, \n",
    "                                       max_features=max_features, bootstrap=bootstrap, random_state=RANDOM_SEED).fit(X_train, y_train)"
   ]
  },
  {
   "cell_type": "markdown",
   "metadata": {},
   "source": [
    "## Conjunto de validação"
   ]
  },
  {
   "cell_type": "code",
   "execution_count": 48,
   "metadata": {},
   "outputs": [],
   "source": [
    "def plot_roc_curve(y_true, y_score, max_fpr=1.0):\n",
    "  fpr, tpr, thresholds = roc_curve(y_true, y_score)\n",
    "  aucroc = roc_auc_score(y_true, y_score)\n",
    "  plt.plot(100*fpr[fpr < max_fpr], 100*tpr[fpr < max_fpr], label=f'ROC Curve (AUC = {aucroc:.4f})')\n",
    "  plt.xlim(-2,102)\n",
    "  plt.xlabel('FPR (%)')\n",
    "  plt.ylabel('TPR (%)')\n",
    "  plt.legend()\n",
    "  plt.title('ROC Curve and AUCROC')"
   ]
  },
  {
   "cell_type": "code",
   "execution_count": 49,
   "metadata": {},
   "outputs": [],
   "source": [
    "def get_overall_metrics(y_true, y_pred):\n",
    "  tn, fp, fn, tp = confusion_matrix(y_true, y_pred).ravel()\n",
    "  acc = (tp+tn)/(tp+tn+fp+fn)\n",
    "  tpr = tp/(tp+fn)\n",
    "  fpr = fp/(fp+tn)\n",
    "  precision = tp/(tp+fp)\n",
    "  f1 = (2*tpr*precision)/(tpr+precision)\n",
    "  return {'acc':acc,'tpr':tpr,'fpr':fpr,'precision':precision,'f1-score':f1}"
   ]
  },
  {
   "cell_type": "code",
   "execution_count": 50,
   "metadata": {},
   "outputs": [],
   "source": [
    "def plot_confusion_matrix(y_true, y_pred):\n",
    "  cm = confusion_matrix(y_true, y_pred)\n",
    "  group_counts = [f'{value:.0f}' for value in confusion_matrix(y_true, y_pred).ravel()]\n",
    "  group_percentages = [f'{value*100:.2f}%' for value in confusion_matrix(y_true, y_pred).ravel()/np.sum(cm)]\n",
    "  labels = [f'{v1}\\n{v2}' for v1, v2 in zip(group_counts, group_percentages)]\n",
    "  labels = np.array(labels).reshape(2,2)\n",
    "  sns.heatmap(cm, annot=labels, cmap='Oranges', xticklabels=['Predicted Benign', 'Predicted Malicious'], yticklabels=['Actual Benign', 'Actual Malicious'], fmt='')\n",
    "  return"
   ]
  },
  {
   "cell_type": "code",
   "execution_count": 124,
   "metadata": {},
   "outputs": [],
   "source": [
    "val_scores_rforest = model_rforest.predict_proba(X_val)[:, 1]"
   ]
  },
  {
   "cell_type": "code",
   "execution_count": 125,
   "metadata": {},
   "outputs": [
    {
     "data": {
      "image/png": "[encoded data removed]",
      "text/plain": [
       "<Figure size 640x480 with 1 Axes>"
      ]
     },
     "metadata": {},
     "output_type": "display_data"
    }
   ],
   "source": [
    "plot_roc_curve(y_val, val_scores_rforest)"
   ]
  },
  {
   "cell_type": "code",
   "execution_count": 128,
   "metadata": {},
   "outputs": [
    {
     "data": {
      "text/html": [
       "<div>\n",
       "<style scoped>\n",
       "    .dataframe tbody tr th:only-of-type {\n",
       "        vertical-align: middle;\n",
       "    }\n",
       "\n",
       "    .dataframe tbody tr th {\n",
       "        vertical-align: top;\n",
       "    }\n",
       "\n",
       "    .dataframe thead th {\n",
       "        text-align: right;\n",
       "    }\n",
       "</style>\n",
       "<table border=\"1\" class=\"dataframe\">\n",
       "  <thead>\n",
       "    <tr style=\"text-align: right;\">\n",
       "      <th></th>\n",
       "      <th>fpr</th>\n",
       "      <th>tpr</th>\n",
       "      <th>thresholds</th>\n",
       "      <th>youden-index</th>\n",
       "    </tr>\n",
       "  </thead>\n",
       "  <tbody>\n",
       "    <tr>\n",
       "      <th>57</th>\n",
       "      <td>0.044700</td>\n",
       "      <td>0.931179</td>\n",
       "      <td>0.44</td>\n",
       "      <td>0.886479</td>\n",
       "    </tr>\n",
       "    <tr>\n",
       "      <th>58</th>\n",
       "      <td>0.047504</td>\n",
       "      <td>0.933952</td>\n",
       "      <td>0.43</td>\n",
       "      <td>0.886448</td>\n",
       "    </tr>\n",
       "    <tr>\n",
       "      <th>59</th>\n",
       "      <td>0.050082</td>\n",
       "      <td>0.936467</td>\n",
       "      <td>0.42</td>\n",
       "      <td>0.886385</td>\n",
       "    </tr>\n",
       "    <tr>\n",
       "      <th>60</th>\n",
       "      <td>0.052660</td>\n",
       "      <td>0.938760</td>\n",
       "      <td>0.41</td>\n",
       "      <td>0.886100</td>\n",
       "    </tr>\n",
       "    <tr>\n",
       "      <th>56</th>\n",
       "      <td>0.042292</td>\n",
       "      <td>0.928294</td>\n",
       "      <td>0.45</td>\n",
       "      <td>0.886002</td>\n",
       "    </tr>\n",
       "  </tbody>\n",
       "</table>\n",
       "</div>"
      ],
      "text/plain": [
       "         fpr       tpr  thresholds  youden-index\n",
       "57  0.044700  0.931179        0.44      0.886479\n",
       "58  0.047504  0.933952        0.43      0.886448\n",
       "59  0.050082  0.936467        0.42      0.886385\n",
       "60  0.052660  0.938760        0.41      0.886100\n",
       "56  0.042292  0.928294        0.45      0.886002"
      ]
     },
     "execution_count": 128,
     "metadata": {},
     "output_type": "execute_result"
    }
   ],
   "source": [
    "fpr, tpr, thresholds = roc_curve(y_val, val_scores_rforest)\n",
    "df_val_roc = pd.DataFrame({'fpr':fpr, 'tpr':tpr, 'thresholds':thresholds})\n",
    "df_val_roc['youden-index'] = df_val_roc['tpr'] - df_val_roc['fpr']\n",
    "df_val_roc.sort_values('youden-index', ascending=False).drop_duplicates('tpr').query('tpr > 0.9').head()"
   ]
  },
  {
   "cell_type": "code",
   "execution_count": 129,
   "metadata": {},
   "outputs": [],
   "source": [
    "BEST_RFOREST_VALIDATION_THRESHOLD = 0.44"
   ]
  },
  {
   "cell_type": "code",
   "execution_count": 130,
   "metadata": {},
   "outputs": [
    {
     "data": {
      "image/png": "[encoded data removed]",
      "text/plain": [
       "<Figure size 640x480 with 2 Axes>"
      ]
     },
     "metadata": {},
     "output_type": "display_data"
    }
   ],
   "source": [
    "plot_confusion_matrix(y_val, val_scores_rforest > BEST_RFOREST_VALIDATION_THRESHOLD)"
   ]
  },
  {
   "cell_type": "code",
   "execution_count": 131,
   "metadata": {},
   "outputs": [
    {
     "data": {
      "text/plain": [
       "{'acc': 0.9449497136807661,\n",
       " 'tpr': 0.9282940719647942,\n",
       " 'fpr': 0.042292221403886464,\n",
       " 'precision': 0.9438616281255875,\n",
       " 'f1-score': 0.9360131255127154}"
      ]
     },
     "execution_count": 131,
     "metadata": {},
     "output_type": "execute_result"
    }
   ],
   "source": [
    "get_overall_metrics(y_val, val_scores_rforest > BEST_RFOREST_VALIDATION_THRESHOLD)"
   ]
  },
  {
   "cell_type": "markdown",
   "metadata": {},
   "source": [
    "# Random Forest Oversampling"
   ]
  },
  {
   "cell_type": "code",
   "execution_count": 51,
   "metadata": {},
   "outputs": [],
   "source": [
    "# Assuming df is your DataFrame containing the dataset\n",
    "# Separate the minority and majority classes\n",
    "df_minority = df_train[df_train['satisfaction_satisfied'] == 1]\n",
    "df_majority = df_train[df_train['satisfaction_satisfied'] == 0]\n",
    "\n",
    "# Calculate the difference in counts between the classes\n",
    "minority_count = len(df_minority)\n",
    "majority_count = len(df_majority)\n",
    "\n",
    "# Duplicate the minority class to balance the dataset\n",
    "df_minority_resampled = df_minority.sample(n=majority_count, replace=True, random_state=RANDOM_SEED)\n",
    "\n",
    "# Combine the resampled minority class with the original majority class\n",
    "df_resampled = pd.concat([df_minority_resampled, df_majority], ignore_index=True)\n",
    "\n",
    "# Now df_resampled contains your duplicated (oversampled) dataset"
   ]
  },
  {
   "cell_type": "code",
   "execution_count": 52,
   "metadata": {},
   "outputs": [
    {
     "data": {
      "text/plain": [
       "<Axes: xlabel='satisfaction_satisfied', ylabel='count'>"
      ]
     },
     "execution_count": 52,
     "metadata": {},
     "output_type": "execute_result"
    },
    {
     "data": {
      "image/png": "[encoded data removed]",
      "text/plain": [
       "<Figure size 640x480 with 1 Axes>"
      ]
     },
     "metadata": {},
     "output_type": "display_data"
    }
   ],
   "source": [
    "sns.countplot(df_resampled,x='satisfaction_satisfied')"
   ]
  },
  {
   "cell_type": "code",
   "execution_count": 53,
   "metadata": {},
   "outputs": [],
   "source": [
    "X_train = df_resampled.drop(columns=['satisfaction_satisfied'])\n",
    "y_train = df_resampled['satisfaction_satisfied'].tolist()\n",
    "\n",
    "X_val = df_val.drop(columns=['satisfaction_satisfied'])\n",
    "y_val = df_val['satisfaction_satisfied'].tolist()"
   ]
  },
  {
   "cell_type": "code",
   "execution_count": 54,
   "metadata": {},
   "outputs": [
    {
     "ename": "NameError",
     "evalue": "name 'RandomForestClassifier' is not defined",
     "output_type": "error",
     "traceback": [
      "\u001b[0;31m---------------------------------------------------------------------------\u001b[0m",
      "\u001b[0;31mNameError\u001b[0m                                 Traceback (most recent call last)",
      "Cell \u001b[0;32mIn[54], line 6\u001b[0m\n\u001b[1;32m      3\u001b[0m max_features \u001b[38;5;241m=\u001b[39m \u001b[38;5;241m1\u001b[39m\n\u001b[1;32m      4\u001b[0m bootstrap \u001b[38;5;241m=\u001b[39m \u001b[38;5;28;01mTrue\u001b[39;00m\n\u001b[0;32m----> 6\u001b[0m model_rforest \u001b[38;5;241m=\u001b[39m \u001b[43mRandomForestClassifier\u001b[49m(n_estimators\u001b[38;5;241m=\u001b[39mn_estimators, max_depth\u001b[38;5;241m=\u001b[39mmax_depth, \n\u001b[1;32m      7\u001b[0m                                        max_features\u001b[38;5;241m=\u001b[39mmax_features, bootstrap\u001b[38;5;241m=\u001b[39mbootstrap, random_state\u001b[38;5;241m=\u001b[39mRANDOM_SEED)\u001b[38;5;241m.\u001b[39mfit(X_train, y_train)\n",
      "\u001b[0;31mNameError\u001b[0m: name 'RandomForestClassifier' is not defined"
     ]
    }
   ],
   "source": [
    "n_estimators = 100\n",
    "max_depth = None\n",
    "max_features = 1\n",
    "bootstrap = True\n",
    "\n",
    "model_rforest = RandomForestClassifier(n_estimators=n_estimators, max_depth=max_depth, \n",
    "                                       max_features=max_features, bootstrap=bootstrap, random_state=RANDOM_SEED).fit(X_train, y_train)"
   ]
  },
  {
   "cell_type": "markdown",
   "metadata": {},
   "source": [
    "## Conjunto de validação"
   ]
  },
  {
   "cell_type": "code",
   "execution_count": 139,
   "metadata": {},
   "outputs": [],
   "source": [
    "val_scores_rforest = model_rforest.predict_proba(X_val)[:, 1]"
   ]
  },
  {
   "cell_type": "code",
   "execution_count": 140,
   "metadata": {},
   "outputs": [
    {
     "data": {
      "image/png": "[encoded data removed]",
      "text/plain": [
       "<Figure size 640x480 with 1 Axes>"
      ]
     },
     "metadata": {},
     "output_type": "display_data"
    }
   ],
   "source": [
    "plot_roc_curve(y_val, val_scores_rforest)"
   ]
  },
  {
   "cell_type": "code",
   "execution_count": 141,
   "metadata": {},
   "outputs": [
    {
     "data": {
      "text/html": [
       "<div>\n",
       "<style scoped>\n",
       "    .dataframe tbody tr th:only-of-type {\n",
       "        vertical-align: middle;\n",
       "    }\n",
       "\n",
       "    .dataframe tbody tr th {\n",
       "        vertical-align: top;\n",
       "    }\n",
       "\n",
       "    .dataframe thead th {\n",
       "        text-align: right;\n",
       "    }\n",
       "</style>\n",
       "<table border=\"1\" class=\"dataframe\">\n",
       "  <thead>\n",
       "    <tr style=\"text-align: right;\">\n",
       "      <th></th>\n",
       "      <th>fpr</th>\n",
       "      <th>tpr</th>\n",
       "      <th>thresholds</th>\n",
       "      <th>youden-index</th>\n",
       "    </tr>\n",
       "  </thead>\n",
       "  <tbody>\n",
       "    <tr>\n",
       "      <th>59</th>\n",
       "      <td>0.044133</td>\n",
       "      <td>0.931733</td>\n",
       "      <td>0.42</td>\n",
       "      <td>0.887600</td>\n",
       "    </tr>\n",
       "    <tr>\n",
       "      <th>58</th>\n",
       "      <td>0.041556</td>\n",
       "      <td>0.929145</td>\n",
       "      <td>0.43</td>\n",
       "      <td>0.887589</td>\n",
       "    </tr>\n",
       "    <tr>\n",
       "      <th>57</th>\n",
       "      <td>0.038978</td>\n",
       "      <td>0.926408</td>\n",
       "      <td>0.44</td>\n",
       "      <td>0.887430</td>\n",
       "    </tr>\n",
       "    <tr>\n",
       "      <th>60</th>\n",
       "      <td>0.046768</td>\n",
       "      <td>0.933989</td>\n",
       "      <td>0.41</td>\n",
       "      <td>0.887221</td>\n",
       "    </tr>\n",
       "    <tr>\n",
       "      <th>62</th>\n",
       "      <td>0.052745</td>\n",
       "      <td>0.939943</td>\n",
       "      <td>0.39</td>\n",
       "      <td>0.887198</td>\n",
       "    </tr>\n",
       "  </tbody>\n",
       "</table>\n",
       "</div>"
      ],
      "text/plain": [
       "         fpr       tpr  thresholds  youden-index\n",
       "59  0.044133  0.931733        0.42      0.887600\n",
       "58  0.041556  0.929145        0.43      0.887589\n",
       "57  0.038978  0.926408        0.44      0.887430\n",
       "60  0.046768  0.933989        0.41      0.887221\n",
       "62  0.052745  0.939943        0.39      0.887198"
      ]
     },
     "execution_count": 141,
     "metadata": {},
     "output_type": "execute_result"
    }
   ],
   "source": [
    "fpr, tpr, thresholds = roc_curve(y_val, val_scores_rforest)\n",
    "df_val_roc = pd.DataFrame({'fpr':fpr, 'tpr':tpr, 'thresholds':thresholds})\n",
    "df_val_roc['youden-index'] = df_val_roc['tpr'] - df_val_roc['fpr']\n",
    "df_val_roc.sort_values('youden-index', ascending=False).drop_duplicates('tpr').query('tpr > 0.9').head()"
   ]
  },
  {
   "cell_type": "code",
   "execution_count": 143,
   "metadata": {},
   "outputs": [],
   "source": [
    "BEST_RFOREST_VALIDATION_THRESHOLD = 0.42"
   ]
  },
  {
   "cell_type": "code",
   "execution_count": 144,
   "metadata": {},
   "outputs": [
    {
     "data": {
      "image/png": "[encoded data removed]",
      "text/plain": [
       "<Figure size 640x480 with 2 Axes>"
      ]
     },
     "metadata": {},
     "output_type": "display_data"
    }
   ],
   "source": [
    "plot_confusion_matrix(y_val, val_scores_rforest > BEST_RFOREST_VALIDATION_THRESHOLD)"
   ]
  },
  {
   "cell_type": "code",
   "execution_count": 145,
   "metadata": {},
   "outputs": [
    {
     "data": {
      "text/plain": [
       "{'acc': 0.9457356880483775,\n",
       " 'tpr': 0.9291446322251397,\n",
       " 'fpr': 0.04155571922270693,\n",
       " 'precision': 0.9448330324909747,\n",
       " 'f1-score': 0.9369231629780173}"
      ]
     },
     "execution_count": 145,
     "metadata": {},
     "output_type": "execute_result"
    }
   ],
   "source": [
    "get_overall_metrics(y_val, val_scores_rforest > BEST_RFOREST_VALIDATION_THRESHOLD)"
   ]
  },
  {
   "cell_type": "markdown",
   "metadata": {},
   "source": [
    "# Random Forest"
   ]
  },
  {
   "cell_type": "code",
   "execution_count": 195,
   "metadata": {},
   "outputs": [],
   "source": [
    "import optuna"
   ]
  },
  {
   "cell_type": "code",
   "execution_count": 210,
   "metadata": {},
   "outputs": [],
   "source": [
    "def objective(trial):\n",
    "    # Define hyperparameters to tune \n",
    "    params = {\n",
    "        'n_estimators': trial.suggest_int('n_estimators', 20, 200, step=20),\n",
    "        'max_depth': trial.suggest_categorical('max_depth', [None] + list(range(2, 33, 2))),\n",
    "        'max_features': trial.suggest_categorical('max_features', ['sqrt', 'log2', None])\n",
    "    }\n",
    "\n",
    "    # Initialize the model with current parameters\n",
    "    model = RandomForestClassifier(**params, random_state=RANDOM_SEED).fit(X_train, y_train)\n",
    "\n",
    "    # Calculate cross-validation score\n",
    "    val_scores_rforest = model.predict_proba(X_val)[:, 1]\n",
    "\n",
    "    aucroc = roc_auc_score(y_val, val_scores_rforest)\n",
    "\n",
    "    return aucroc"
   ]
  },
  {
   "cell_type": "code",
   "execution_count": 211,
   "metadata": {},
   "outputs": [
    {
     "name": "stderr",
     "output_type": "stream",
     "text": [
      "[I 2024-07-02 20:33:58,589] A new study created in memory with name: no-name-400bb323-f78e-4e15-820d-12088dd45ca8\n",
      "[I 2024-07-02 20:34:16,658] Trial 0 finished with value: 0.9866210669282269 and parameters: {'n_estimators': 200, 'max_depth': 8, 'max_features': None}. Best is trial 0 with value: 0.9866210669282269.\n",
      "[I 2024-07-02 20:34:46,426] Trial 1 finished with value: 0.9918115570044291 and parameters: {'n_estimators': 200, 'max_depth': 28, 'max_features': None}. Best is trial 1 with value: 0.9918115570044291.\n",
      "[I 2024-07-02 20:34:49,981] Trial 2 finished with value: 0.9918142953201802 and parameters: {'n_estimators': 100, 'max_depth': 14, 'max_features': 'sqrt'}. Best is trial 2 with value: 0.9918142953201802.\n",
      "[I 2024-07-02 20:34:56,186] Trial 3 finished with value: 0.9905584370922271 and parameters: {'n_estimators': 40, 'max_depth': 26, 'max_features': None}. Best is trial 2 with value: 0.9918142953201802.\n",
      "[I 2024-07-02 20:34:57,787] Trial 4 finished with value: 0.991874133909435 and parameters: {'n_estimators': 40, 'max_depth': 22, 'max_features': 'log2'}. Best is trial 4 with value: 0.991874133909435.\n",
      "[I 2024-07-02 20:34:59,337] Trial 5 finished with value: 0.9918570409109255 and parameters: {'n_estimators': 40, 'max_depth': 32, 'max_features': 'sqrt'}. Best is trial 4 with value: 0.991874133909435.\n",
      "[I 2024-07-02 20:35:01,029] Trial 6 finished with value: 0.9921126554581082 and parameters: {'n_estimators': 40, 'max_depth': 20, 'max_features': 'sqrt'}. Best is trial 6 with value: 0.9921126554581082.\n",
      "[I 2024-07-02 20:35:01,341] Trial 7 finished with value: 0.9620134647992789 and parameters: {'n_estimators': 20, 'max_depth': 4, 'max_features': 'log2'}. Best is trial 6 with value: 0.9921126554581082.\n",
      "[I 2024-07-02 20:35:05,597] Trial 8 finished with value: 0.992669298796385 and parameters: {'n_estimators': 120, 'max_depth': 32, 'max_features': 'log2'}. Best is trial 8 with value: 0.992669298796385.\n",
      "[I 2024-07-02 20:35:17,122] Trial 9 finished with value: 0.990807552067843 and parameters: {'n_estimators': 100, 'max_depth': 12, 'max_features': None}. Best is trial 8 with value: 0.992669298796385.\n",
      "[I 2024-07-02 20:35:22,216] Trial 10 finished with value: 0.9927304515467379 and parameters: {'n_estimators': 140, 'max_depth': 32, 'max_features': 'log2'}. Best is trial 10 with value: 0.9927304515467379.\n",
      "[I 2024-07-02 20:35:27,138] Trial 11 finished with value: 0.9927304515467379 and parameters: {'n_estimators': 140, 'max_depth': 32, 'max_features': 'log2'}. Best is trial 10 with value: 0.9927304515467379.\n",
      "[I 2024-07-02 20:35:31,805] Trial 12 finished with value: 0.9923581951193949 and parameters: {'n_estimators': 140, 'max_depth': 16, 'max_features': 'log2'}. Best is trial 10 with value: 0.9927304515467379.\n",
      "[I 2024-07-02 20:35:37,484] Trial 13 finished with value: 0.9927775848327863 and parameters: {'n_estimators': 160, 'max_depth': None, 'max_features': 'log2'}. Best is trial 13 with value: 0.9927775848327863.\n",
      "[I 2024-07-02 20:35:43,143] Trial 14 finished with value: 0.9927775848327863 and parameters: {'n_estimators': 160, 'max_depth': None, 'max_features': 'log2'}. Best is trial 13 with value: 0.9927775848327863.\n",
      "[I 2024-07-02 20:35:49,611] Trial 15 finished with value: 0.9928123972692929 and parameters: {'n_estimators': 180, 'max_depth': None, 'max_features': 'log2'}. Best is trial 15 with value: 0.9928123972692929.\n",
      "[I 2024-07-02 20:35:55,960] Trial 16 finished with value: 0.9928123972692929 and parameters: {'n_estimators': 180, 'max_depth': None, 'max_features': 'log2'}. Best is trial 15 with value: 0.9928123972692929.\n",
      "[I 2024-07-02 20:36:02,289] Trial 17 finished with value: 0.9928624925246546 and parameters: {'n_estimators': 180, 'max_depth': 30, 'max_features': 'log2'}. Best is trial 17 with value: 0.9928624925246546.\n",
      "[I 2024-07-02 20:36:08,689] Trial 18 finished with value: 0.9928624925246546 and parameters: {'n_estimators': 180, 'max_depth': 30, 'max_features': 'log2'}. Best is trial 17 with value: 0.9928624925246546.\n",
      "[I 2024-07-02 20:36:11,549] Trial 19 finished with value: 0.9924667304745218 and parameters: {'n_estimators': 80, 'max_depth': 30, 'max_features': 'sqrt'}. Best is trial 17 with value: 0.9928624925246546.\n",
      "[I 2024-07-02 20:36:17,995] Trial 20 finished with value: 0.9928624925246546 and parameters: {'n_estimators': 180, 'max_depth': 30, 'max_features': 'log2'}. Best is trial 17 with value: 0.9928624925246546.\n",
      "[I 2024-07-02 20:36:24,334] Trial 21 finished with value: 0.9928624925246546 and parameters: {'n_estimators': 180, 'max_depth': 30, 'max_features': 'log2'}. Best is trial 17 with value: 0.9928624925246546.\n",
      "[I 2024-07-02 20:36:31,477] Trial 22 finished with value: 0.9929021719140986 and parameters: {'n_estimators': 200, 'max_depth': 30, 'max_features': 'log2'}. Best is trial 22 with value: 0.9929021719140986.\n",
      "[I 2024-07-02 20:36:35,109] Trial 23 finished with value: 0.9791348584073178 and parameters: {'n_estimators': 200, 'max_depth': 6, 'max_features': 'log2'}. Best is trial 22 with value: 0.9929021719140986.\n",
      "[I 2024-07-02 20:36:40,785] Trial 24 finished with value: 0.9928151486795145 and parameters: {'n_estimators': 160, 'max_depth': 30, 'max_features': 'log2'}. Best is trial 22 with value: 0.9929021719140986.\n",
      "[I 2024-07-02 20:36:42,438] Trial 25 finished with value: 0.9432263413588898 and parameters: {'n_estimators': 200, 'max_depth': 2, 'max_features': 'log2'}. Best is trial 22 with value: 0.9929021719140986.\n",
      "[I 2024-07-02 20:36:48,032] Trial 26 finished with value: 0.9926543318161675 and parameters: {'n_estimators': 160, 'max_depth': 18, 'max_features': 'log2'}. Best is trial 22 with value: 0.9929021719140986.\n",
      "[I 2024-07-02 20:36:54,920] Trial 27 finished with value: 0.9930362624385977 and parameters: {'n_estimators': 180, 'max_depth': 24, 'max_features': 'log2'}. Best is trial 27 with value: 0.9930362624385977.\n",
      "[I 2024-07-02 20:36:59,205] Trial 28 finished with value: 0.9929217381962685 and parameters: {'n_estimators': 120, 'max_depth': 24, 'max_features': 'sqrt'}. Best is trial 27 with value: 0.9930362624385977.\n",
      "[I 2024-07-02 20:37:02,180] Trial 29 finished with value: 0.9926632402465975 and parameters: {'n_estimators': 80, 'max_depth': 24, 'max_features': 'sqrt'}. Best is trial 27 with value: 0.9930362624385977.\n",
      "[I 2024-07-02 20:37:06,430] Trial 30 finished with value: 0.9929217381962685 and parameters: {'n_estimators': 120, 'max_depth': 24, 'max_features': 'sqrt'}. Best is trial 27 with value: 0.9930362624385977.\n",
      "[I 2024-07-02 20:37:10,767] Trial 31 finished with value: 0.9929217381962685 and parameters: {'n_estimators': 120, 'max_depth': 24, 'max_features': 'sqrt'}. Best is trial 27 with value: 0.9930362624385977.\n",
      "[I 2024-07-02 20:37:13,986] Trial 32 finished with value: 0.9891698669256693 and parameters: {'n_estimators': 120, 'max_depth': 10, 'max_features': 'sqrt'}. Best is trial 27 with value: 0.9930362624385977.\n",
      "[I 2024-07-02 20:37:17,249] Trial 33 finished with value: 0.9926632402465975 and parameters: {'n_estimators': 80, 'max_depth': 24, 'max_features': 'sqrt'}. Best is trial 27 with value: 0.9930362624385977.\n",
      "[I 2024-07-02 20:37:22,288] Trial 34 finished with value: 0.9929217381962685 and parameters: {'n_estimators': 120, 'max_depth': 24, 'max_features': 'sqrt'}. Best is trial 27 with value: 0.9930362624385977.\n",
      "[I 2024-07-02 20:37:26,283] Trial 35 finished with value: 0.9928341079020143 and parameters: {'n_estimators': 100, 'max_depth': 24, 'max_features': 'sqrt'}. Best is trial 27 with value: 0.9930362624385977.\n",
      "[I 2024-07-02 20:37:28,172] Trial 36 finished with value: 0.9847933459203813 and parameters: {'n_estimators': 60, 'max_depth': 8, 'max_features': 'sqrt'}. Best is trial 27 with value: 0.9930362624385977.\n",
      "[I 2024-07-02 20:37:44,954] Trial 37 finished with value: 0.9914997965087798 and parameters: {'n_estimators': 100, 'max_depth': 24, 'max_features': None}. Best is trial 27 with value: 0.9930362624385977.\n",
      "[I 2024-07-02 20:37:49,627] Trial 38 finished with value: 0.9919387210776109 and parameters: {'n_estimators': 140, 'max_depth': 14, 'max_features': 'sqrt'}. Best is trial 27 with value: 0.9930362624385977.\n",
      "[I 2024-07-02 20:37:54,117] Trial 39 finished with value: 0.9929217381962685 and parameters: {'n_estimators': 120, 'max_depth': 24, 'max_features': 'sqrt'}. Best is trial 27 with value: 0.9930362624385977.\n",
      "[I 2024-07-02 20:37:56,388] Trial 40 finished with value: 0.9922734995579547 and parameters: {'n_estimators': 60, 'max_depth': 28, 'max_features': 'sqrt'}. Best is trial 27 with value: 0.9930362624385977.\n",
      "[I 2024-07-02 20:38:01,699] Trial 41 finished with value: 0.9929217381962685 and parameters: {'n_estimators': 120, 'max_depth': 24, 'max_features': 'sqrt'}. Best is trial 27 with value: 0.9930362624385977.\n",
      "[I 2024-07-02 20:38:06,811] Trial 42 finished with value: 0.9927234816217771 and parameters: {'n_estimators': 120, 'max_depth': 26, 'max_features': 'sqrt'}. Best is trial 27 with value: 0.9930362624385977.\n",
      "[I 2024-07-02 20:38:12,649] Trial 43 finished with value: 0.9929681738089082 and parameters: {'n_estimators': 140, 'max_depth': 24, 'max_features': 'sqrt'}. Best is trial 27 with value: 0.9930362624385977.\n",
      "[I 2024-07-02 20:38:35,028] Trial 44 finished with value: 0.9917612160967938 and parameters: {'n_estimators': 140, 'max_depth': 22, 'max_features': None}. Best is trial 27 with value: 0.9930362624385977.\n",
      "[I 2024-07-02 20:38:39,175] Trial 45 finished with value: 0.9928341079020143 and parameters: {'n_estimators': 100, 'max_depth': 24, 'max_features': 'sqrt'}. Best is trial 27 with value: 0.9930362624385977.\n",
      "[I 2024-07-02 20:38:44,619] Trial 46 finished with value: 0.9927108114117522 and parameters: {'n_estimators': 140, 'max_depth': 20, 'max_features': 'sqrt'}. Best is trial 27 with value: 0.9930362624385977.\n",
      "[I 2024-07-02 20:38:46,384] Trial 47 finished with value: 0.9650036626492124 and parameters: {'n_estimators': 100, 'max_depth': 4, 'max_features': 'sqrt'}. Best is trial 27 with value: 0.9930362624385977.\n",
      "[I 2024-07-02 20:39:03,592] Trial 48 finished with value: 0.990895100652599 and parameters: {'n_estimators': 140, 'max_depth': 12, 'max_features': None}. Best is trial 27 with value: 0.9930362624385977.\n",
      "[I 2024-07-02 20:39:09,098] Trial 49 finished with value: 0.9923864917471908 and parameters: {'n_estimators': 160, 'max_depth': 16, 'max_features': 'sqrt'}. Best is trial 27 with value: 0.9930362624385977.\n",
      "[I 2024-07-02 20:39:13,655] Trial 50 finished with value: 0.9929217381962685 and parameters: {'n_estimators': 120, 'max_depth': 24, 'max_features': 'sqrt'}. Best is trial 27 with value: 0.9930362624385977.\n",
      "[I 2024-07-02 20:39:17,861] Trial 51 finished with value: 0.9929217381962685 and parameters: {'n_estimators': 120, 'max_depth': 24, 'max_features': 'sqrt'}. Best is trial 27 with value: 0.9930362624385977.\n",
      "[I 2024-07-02 20:39:21,587] Trial 52 finished with value: 0.9928341079020143 and parameters: {'n_estimators': 100, 'max_depth': 24, 'max_features': 'sqrt'}. Best is trial 27 with value: 0.9930362624385977.\n",
      "[I 2024-07-02 20:39:25,906] Trial 53 finished with value: 0.9929217381962685 and parameters: {'n_estimators': 120, 'max_depth': 24, 'max_features': 'sqrt'}. Best is trial 27 with value: 0.9930362624385977.\n",
      "[I 2024-07-02 20:39:30,764] Trial 54 finished with value: 0.9929681738089082 and parameters: {'n_estimators': 140, 'max_depth': 24, 'max_features': 'sqrt'}. Best is trial 27 with value: 0.9930362624385977.\n",
      "[I 2024-07-02 20:39:34,780] Trial 55 finished with value: 0.98923821587344 and parameters: {'n_estimators': 140, 'max_depth': 10, 'max_features': 'sqrt'}. Best is trial 27 with value: 0.9930362624385977.\n",
      "[I 2024-07-02 20:39:46,442] Trial 56 finished with value: 0.9768478640228911 and parameters: {'n_estimators': 160, 'max_depth': 6, 'max_features': None}. Best is trial 27 with value: 0.9930362624385977.\n",
      "[I 2024-07-02 20:39:51,416] Trial 57 finished with value: 0.9925998472941663 and parameters: {'n_estimators': 140, 'max_depth': 18, 'max_features': 'sqrt'}. Best is trial 27 with value: 0.9930362624385977.\n",
      "[I 2024-07-02 20:39:52,611] Trial 58 finished with value: 0.9418939590431057 and parameters: {'n_estimators': 140, 'max_depth': 2, 'max_features': 'sqrt'}. Best is trial 27 with value: 0.9930362624385977.\n",
      "[I 2024-07-02 20:39:56,217] Trial 59 finished with value: 0.9855035381668868 and parameters: {'n_estimators': 160, 'max_depth': 8, 'max_features': 'sqrt'}. Best is trial 27 with value: 0.9930362624385977.\n",
      "[I 2024-07-02 20:39:57,058] Trial 60 finished with value: 0.9909833861941759 and parameters: {'n_estimators': 20, 'max_depth': 24, 'max_features': 'sqrt'}. Best is trial 27 with value: 0.9930362624385977.\n",
      "[I 2024-07-02 20:40:01,289] Trial 61 finished with value: 0.9929217381962685 and parameters: {'n_estimators': 120, 'max_depth': 24, 'max_features': 'sqrt'}. Best is trial 27 with value: 0.9930362624385977.\n",
      "[I 2024-07-02 20:40:05,460] Trial 62 finished with value: 0.9929217381962685 and parameters: {'n_estimators': 120, 'max_depth': 24, 'max_features': 'sqrt'}. Best is trial 27 with value: 0.9930362624385977.\n",
      "[I 2024-07-02 20:40:11,573] Trial 63 finished with value: 0.9927894138540015 and parameters: {'n_estimators': 140, 'max_depth': 26, 'max_features': 'sqrt'}. Best is trial 27 with value: 0.9930362624385977.\n",
      "[I 2024-07-02 20:40:15,835] Trial 64 finished with value: 0.9925715391432357 and parameters: {'n_estimators': 100, 'max_depth': 28, 'max_features': 'sqrt'}. Best is trial 27 with value: 0.9930362624385977.\n",
      "[I 2024-07-02 20:40:19,999] Trial 65 finished with value: 0.9918716030101034 and parameters: {'n_estimators': 120, 'max_depth': 14, 'max_features': 'sqrt'}. Best is trial 27 with value: 0.9930362624385977.\n",
      "[I 2024-07-02 20:40:22,864] Trial 66 finished with value: 0.9924288214575411 and parameters: {'n_estimators': 80, 'max_depth': 32, 'max_features': 'sqrt'}. Best is trial 27 with value: 0.9930362624385977.\n",
      "[I 2024-07-02 20:40:44,176] Trial 67 finished with value: 0.9917075533837851 and parameters: {'n_estimators': 140, 'max_depth': 24, 'max_features': None}. Best is trial 27 with value: 0.9930362624385977.\n",
      "[I 2024-07-02 20:40:48,586] Trial 68 finished with value: 0.9926241783924005 and parameters: {'n_estimators': 120, 'max_depth': 20, 'max_features': 'sqrt'}. Best is trial 27 with value: 0.9930362624385977.\n",
      "[I 2024-07-02 20:40:54,529] Trial 69 finished with value: 0.9929871916946378 and parameters: {'n_estimators': 160, 'max_depth': 24, 'max_features': 'log2'}. Best is trial 27 with value: 0.9930362624385977.\n",
      "[I 2024-07-02 20:40:56,673] Trial 70 finished with value: 0.9660771086124407 and parameters: {'n_estimators': 160, 'max_depth': 4, 'max_features': 'log2'}. Best is trial 27 with value: 0.9930362624385977.\n",
      "[I 2024-07-02 20:41:03,337] Trial 71 finished with value: 0.9930362624385977 and parameters: {'n_estimators': 180, 'max_depth': 24, 'max_features': 'log2'}. Best is trial 27 with value: 0.9930362624385977.\n",
      "[I 2024-07-02 20:41:09,952] Trial 72 finished with value: 0.9930362624385977 and parameters: {'n_estimators': 180, 'max_depth': 24, 'max_features': 'log2'}. Best is trial 27 with value: 0.9930362624385977.\n",
      "[I 2024-07-02 20:41:16,791] Trial 73 finished with value: 0.9930362624385977 and parameters: {'n_estimators': 180, 'max_depth': 24, 'max_features': 'log2'}. Best is trial 27 with value: 0.9930362624385977.\n",
      "[I 2024-07-02 20:41:23,183] Trial 74 finished with value: 0.9927837203780625 and parameters: {'n_estimators': 180, 'max_depth': 22, 'max_features': 'log2'}. Best is trial 27 with value: 0.9930362624385977.\n",
      "[I 2024-07-02 20:41:29,637] Trial 75 finished with value: 0.9930362624385977 and parameters: {'n_estimators': 180, 'max_depth': 24, 'max_features': 'log2'}. Best is trial 27 with value: 0.9930362624385977.\n",
      "[I 2024-07-02 20:41:35,422] Trial 76 finished with value: 0.9910950453662764 and parameters: {'n_estimators': 180, 'max_depth': 12, 'max_features': 'log2'}. Best is trial 27 with value: 0.9930362624385977.\n",
      "[I 2024-07-02 20:41:43,019] Trial 77 finished with value: 0.9930299713310075 and parameters: {'n_estimators': 200, 'max_depth': 24, 'max_features': 'log2'}. Best is trial 27 with value: 0.9930362624385977.\n",
      "[I 2024-07-02 20:41:49,734] Trial 78 finished with value: 0.9924546489919076 and parameters: {'n_estimators': 200, 'max_depth': 16, 'max_features': 'log2'}. Best is trial 27 with value: 0.9930362624385977.\n",
      "[I 2024-07-02 20:41:56,798] Trial 79 finished with value: 0.9930299713310075 and parameters: {'n_estimators': 200, 'max_depth': 24, 'max_features': 'log2'}. Best is trial 27 with value: 0.9930362624385977.\n",
      "[I 2024-07-02 20:42:03,910] Trial 80 finished with value: 0.9930299713310075 and parameters: {'n_estimators': 200, 'max_depth': 24, 'max_features': 'log2'}. Best is trial 27 with value: 0.9930362624385977.\n",
      "[I 2024-07-02 20:42:11,148] Trial 81 finished with value: 0.9930299713310075 and parameters: {'n_estimators': 200, 'max_depth': 24, 'max_features': 'log2'}. Best is trial 27 with value: 0.9930362624385977.\n",
      "[I 2024-07-02 20:42:18,253] Trial 82 finished with value: 0.9928663952007561 and parameters: {'n_estimators': 200, 'max_depth': None, 'max_features': 'log2'}. Best is trial 27 with value: 0.9930362624385977.\n",
      "[I 2024-07-02 20:42:25,369] Trial 83 finished with value: 0.9930299713310075 and parameters: {'n_estimators': 200, 'max_depth': 24, 'max_features': 'log2'}. Best is trial 27 with value: 0.9930362624385977.\n",
      "[I 2024-07-02 20:42:31,603] Trial 84 finished with value: 0.9930362624385977 and parameters: {'n_estimators': 180, 'max_depth': 24, 'max_features': 'log2'}. Best is trial 27 with value: 0.9930362624385977.\n",
      "[I 2024-07-02 20:42:34,989] Trial 85 finished with value: 0.9790674140255957 and parameters: {'n_estimators': 180, 'max_depth': 6, 'max_features': 'log2'}. Best is trial 27 with value: 0.9930362624385977.\n",
      "[I 2024-07-02 20:42:41,335] Trial 86 finished with value: 0.9930362624385977 and parameters: {'n_estimators': 180, 'max_depth': 24, 'max_features': 'log2'}. Best is trial 27 with value: 0.9930362624385977.\n",
      "[I 2024-07-02 20:42:42,852] Trial 87 finished with value: 0.9432433620759204 and parameters: {'n_estimators': 180, 'max_depth': 2, 'max_features': 'log2'}. Best is trial 27 with value: 0.9930362624385977.\n",
      "[I 2024-07-02 20:42:49,181] Trial 88 finished with value: 0.9930362624385977 and parameters: {'n_estimators': 180, 'max_depth': 24, 'max_features': 'log2'}. Best is trial 27 with value: 0.9930362624385977.\n",
      "[I 2024-07-02 20:42:53,982] Trial 89 finished with value: 0.9892411259886487 and parameters: {'n_estimators': 180, 'max_depth': 10, 'max_features': 'log2'}. Best is trial 27 with value: 0.9930362624385977.\n",
      "[I 2024-07-02 20:43:00,230] Trial 90 finished with value: 0.9926349127158501 and parameters: {'n_estimators': 180, 'max_depth': 18, 'max_features': 'log2'}. Best is trial 27 with value: 0.9930362624385977.\n",
      "[I 2024-07-02 20:43:06,594] Trial 91 finished with value: 0.9930362624385977 and parameters: {'n_estimators': 180, 'max_depth': 24, 'max_features': 'log2'}. Best is trial 27 with value: 0.9930362624385977.\n",
      "[I 2024-07-02 20:43:12,890] Trial 92 finished with value: 0.9930362624385977 and parameters: {'n_estimators': 180, 'max_depth': 24, 'max_features': 'log2'}. Best is trial 27 with value: 0.9930362624385977.\n",
      "[I 2024-07-02 20:43:19,308] Trial 93 finished with value: 0.9930362624385977 and parameters: {'n_estimators': 180, 'max_depth': 24, 'max_features': 'log2'}. Best is trial 27 with value: 0.9930362624385977.\n",
      "[I 2024-07-02 20:43:25,689] Trial 94 finished with value: 0.9930362624385977 and parameters: {'n_estimators': 180, 'max_depth': 24, 'max_features': 'log2'}. Best is trial 27 with value: 0.9930362624385977.\n",
      "[I 2024-07-02 20:43:29,884] Trial 95 finished with value: 0.9854806888389778 and parameters: {'n_estimators': 180, 'max_depth': 8, 'max_features': 'log2'}. Best is trial 27 with value: 0.9930362624385977.\n",
      "[I 2024-07-02 20:43:35,500] Trial 96 finished with value: 0.9929871916946378 and parameters: {'n_estimators': 160, 'max_depth': 24, 'max_features': 'log2'}. Best is trial 27 with value: 0.9930362624385977.\n",
      "[I 2024-07-02 20:43:41,746] Trial 97 finished with value: 0.9930362624385977 and parameters: {'n_estimators': 180, 'max_depth': 24, 'max_features': 'log2'}. Best is trial 27 with value: 0.9930362624385977.\n",
      "[I 2024-07-02 20:43:48,215] Trial 98 finished with value: 0.9928129964722804 and parameters: {'n_estimators': 180, 'max_depth': 32, 'max_features': 'log2'}. Best is trial 27 with value: 0.9930362624385977.\n",
      "[I 2024-07-02 20:43:54,845] Trial 99 finished with value: 0.9928669336453989 and parameters: {'n_estimators': 180, 'max_depth': 28, 'max_features': 'log2'}. Best is trial 27 with value: 0.9930362624385977.\n"
     ]
    },
    {
     "name": "stdout",
     "output_type": "stream",
     "text": [
      "Best hyperparameters:  {'n_estimators': 180, 'max_depth': 24, 'max_features': 'log2'}\n"
     ]
    }
   ],
   "source": [
    "study = optuna.create_study(direction='maximize')\n",
    "study.optimize(objective, n_trials=100)\n",
    "\n",
    "# Print the best hyperparameters\n",
    "print('Best hyperparameters: ', study.best_params)"
   ]
  },
  {
   "cell_type": "code",
   "execution_count": 73,
   "metadata": {},
   "outputs": [],
   "source": [
    "params = {'n_estimators': 180, 'max_depth': 24, 'max_features': 'log2'}\n",
    "\n",
    "model_rforest = model = RandomForestClassifier(**params, random_state=RANDOM_SEED).fit(X_train, y_train)"
   ]
  },
  {
   "cell_type": "markdown",
   "metadata": {},
   "source": [
    "## Conjunto de validação"
   ]
  },
  {
   "cell_type": "code",
   "execution_count": 74,
   "metadata": {},
   "outputs": [],
   "source": [
    "val_scores_rforest = model_rforest.predict_proba(X_val)[:, 1]"
   ]
  },
  {
   "cell_type": "code",
   "execution_count": 75,
   "metadata": {},
   "outputs": [
    {
     "data": {
      "image/png": "[encoded data removed]",
      "text/plain": [
       "<Figure size 640x480 with 1 Axes>"
      ]
     },
     "metadata": {},
     "output_type": "display_data"
    }
   ],
   "source": [
    "plot_roc_curve(y_val, val_scores_rforest)"
   ]
  },
  {
   "cell_type": "code",
   "execution_count": 76,
   "metadata": {},
   "outputs": [
    {
     "data": {
      "text/html": [
       "<div>\n",
       "<style scoped>\n",
       "    .dataframe tbody tr th:only-of-type {\n",
       "        vertical-align: middle;\n",
       "    }\n",
       "\n",
       "    .dataframe tbody tr th {\n",
       "        vertical-align: top;\n",
       "    }\n",
       "\n",
       "    .dataframe thead th {\n",
       "        text-align: right;\n",
       "    }\n",
       "</style>\n",
       "<table border=\"1\" class=\"dataframe\">\n",
       "  <thead>\n",
       "    <tr style=\"text-align: right;\">\n",
       "      <th></th>\n",
       "      <th>fpr</th>\n",
       "      <th>tpr</th>\n",
       "      <th>thresholds</th>\n",
       "      <th>youden-index</th>\n",
       "    </tr>\n",
       "  </thead>\n",
       "  <tbody>\n",
       "    <tr>\n",
       "      <th>1530</th>\n",
       "      <td>0.025324</td>\n",
       "      <td>0.939092</td>\n",
       "      <td>0.472814</td>\n",
       "      <td>0.913768</td>\n",
       "    </tr>\n",
       "    <tr>\n",
       "      <th>1532</th>\n",
       "      <td>0.025381</td>\n",
       "      <td>0.939129</td>\n",
       "      <td>0.472554</td>\n",
       "      <td>0.913748</td>\n",
       "    </tr>\n",
       "    <tr>\n",
       "      <th>1524</th>\n",
       "      <td>0.025211</td>\n",
       "      <td>0.938908</td>\n",
       "      <td>0.474444</td>\n",
       "      <td>0.913697</td>\n",
       "    </tr>\n",
       "    <tr>\n",
       "      <th>1522</th>\n",
       "      <td>0.025183</td>\n",
       "      <td>0.938871</td>\n",
       "      <td>0.474561</td>\n",
       "      <td>0.913688</td>\n",
       "    </tr>\n",
       "    <tr>\n",
       "      <th>1528</th>\n",
       "      <td>0.025296</td>\n",
       "      <td>0.938982</td>\n",
       "      <td>0.473850</td>\n",
       "      <td>0.913686</td>\n",
       "    </tr>\n",
       "  </tbody>\n",
       "</table>\n",
       "</div>"
      ],
      "text/plain": [
       "           fpr       tpr  thresholds  youden-index\n",
       "1530  0.025324  0.939092    0.472814      0.913768\n",
       "1532  0.025381  0.939129    0.472554      0.913748\n",
       "1524  0.025211  0.938908    0.474444      0.913697\n",
       "1522  0.025183  0.938871    0.474561      0.913688\n",
       "1528  0.025296  0.938982    0.473850      0.913686"
      ]
     },
     "execution_count": 76,
     "metadata": {},
     "output_type": "execute_result"
    }
   ],
   "source": [
    "fpr, tpr, thresholds = roc_curve(y_val, val_scores_rforest)\n",
    "df_val_roc = pd.DataFrame({'fpr':fpr, 'tpr':tpr, 'thresholds':thresholds})\n",
    "df_val_roc['youden-index'] = df_val_roc['tpr'] - df_val_roc['fpr']\n",
    "df_val_roc.sort_values('youden-index', ascending=False).drop_duplicates('tpr').query('tpr > 0.9').head()"
   ]
  },
  {
   "cell_type": "code",
   "execution_count": 77,
   "metadata": {},
   "outputs": [],
   "source": [
    "BEST_RFOREST_VALIDATION_THRESHOLD = 0.472814"
   ]
  },
  {
   "cell_type": "code",
   "execution_count": 78,
   "metadata": {},
   "outputs": [
    {
     "data": {
      "image/png": "[encoded data removed]",
      "text/plain": [
       "<Figure size 640x480 with 2 Axes>"
      ]
     },
     "metadata": {},
     "output_type": "display_data"
    }
   ],
   "source": [
    "plot_confusion_matrix(y_val, val_scores_rforest > BEST_RFOREST_VALIDATION_THRESHOLD)"
   ]
  },
  {
   "cell_type": "code",
   "execution_count": 79,
   "metadata": {},
   "outputs": [
    {
     "data": {
      "text/plain": [
       "{'acc': 0.9592255746435044,\n",
       " 'tpr': 0.9390555083022077,\n",
       " 'fpr': 0.02532434422978868,\n",
       " 'precision': 0.9659907939285578,\n",
       " 'f1-score': 0.9523327332733273}"
      ]
     },
     "execution_count": 79,
     "metadata": {},
     "output_type": "execute_result"
    }
   ],
   "source": [
    "get_overall_metrics(y_val, val_scores_rforest > BEST_RFOREST_VALIDATION_THRESHOLD)"
   ]
  },
  {
   "cell_type": "markdown",
   "metadata": {},
   "source": [
    "## Conjunto de teste"
   ]
  },
  {
   "cell_type": "code",
   "execution_count": 130,
   "metadata": {},
   "outputs": [],
   "source": [
    "test_scores_rforest = model_rforest.predict_proba(X_test)[:, 1]"
   ]
  },
  {
   "cell_type": "code",
   "execution_count": 131,
   "metadata": {},
   "outputs": [
    {
     "data": {
      "image/png": "[encoded data removed]",
      "text/plain": [
       "<Figure size 640x480 with 1 Axes>"
      ]
     },
     "metadata": {},
     "output_type": "display_data"
    }
   ],
   "source": [
    "plot_roc_curve(y_test, test_scores_rforest)"
   ]
  },
  {
   "cell_type": "code",
   "execution_count": 140,
   "metadata": {},
   "outputs": [],
   "source": [
    "y_test = np.array(y_test)"
   ]
  },
  {
   "cell_type": "code",
   "execution_count": 141,
   "metadata": {},
   "outputs": [
    {
     "data": {
      "image/png": "[encoded data removed]",
      "text/plain": [
       "<Figure size 640x480 with 1 Axes>"
      ]
     },
     "metadata": {},
     "output_type": "display_data"
    }
   ],
   "source": [
    "y_test_0 = test_scores_rforest[y_test == 0]\n",
    "y_test_1 = test_scores_rforest[y_test == 1]\n",
    "\n",
    "ks_2samp(y_test_0, y_test_1)\n",
    "\n",
    "# KS Test plot\n",
    "plt.figure()\n",
    "sns.kdeplot(y_test_0, cumulative=True, label=\"0\")\n",
    "sns.kdeplot(y_test_1, cumulative=True, label=\"1\")\n",
    "plt.title(\"KS Test\")\n",
    "plt.legend()\n",
    "plt.show()"
   ]
  },
  {
   "cell_type": "code",
   "execution_count": 132,
   "metadata": {},
   "outputs": [
    {
     "data": {
      "image/png": "[encoded data removed]",
      "text/plain": [
       "<Figure size 640x480 with 2 Axes>"
      ]
     },
     "metadata": {},
     "output_type": "display_data"
    }
   ],
   "source": [
    "plot_confusion_matrix(y_test, test_scores_rforest > BEST_RFOREST_VALIDATION_THRESHOLD)"
   ]
  },
  {
   "cell_type": "code",
   "execution_count": 133,
   "metadata": {},
   "outputs": [
    {
     "data": {
      "text/plain": [
       "{'acc': 0.9576917154296274,\n",
       " 'tpr': 0.9391388231167237,\n",
       " 'fpr': 0.02779112056542922,\n",
       " 'precision': 0.9635594745366205,\n",
       " 'f1-score': 0.9511924323844206}"
      ]
     },
     "execution_count": 133,
     "metadata": {},
     "output_type": "execute_result"
    }
   ],
   "source": [
    "get_overall_metrics(y_test, test_scores_rforest > BEST_RFOREST_VALIDATION_THRESHOLD)"
   ]
  },
  {
   "cell_type": "markdown",
   "metadata": {},
   "source": [
    "# Gradient Boosting"
   ]
  },
  {
   "cell_type": "code",
   "execution_count": 148,
   "metadata": {},
   "outputs": [],
   "source": [
    "# Use KNNImputer to fill NaN values\n",
    "imputer = KNNImputer(n_neighbors=3)\n",
    "filled_data = imputer.fit_transform(X_val)\n",
    "# Fill NaN with KNN\n",
    "df_knn_filled = pd.DataFrame(filled_data, columns=X_val.columns)\n",
    "X_val['Arrival Delay in Minutes'] = df_knn_filled['Arrival Delay in Minutes'].tolist()"
   ]
  },
  {
   "cell_type": "code",
   "execution_count": 149,
   "metadata": {},
   "outputs": [],
   "source": [
    "# Use KNNImputer to fill NaN values\n",
    "imputer = KNNImputer(n_neighbors=3)\n",
    "filled_data = imputer.fit_transform(X_test)\n",
    "# Fill NaN with KNN\n",
    "df_knn_filled = pd.DataFrame(filled_data, columns=X_test.columns)\n",
    "X_test['Arrival Delay in Minutes'] = df_knn_filled['Arrival Delay in Minutes'].tolist()"
   ]
  },
  {
   "cell_type": "code",
   "execution_count": 56,
   "metadata": {},
   "outputs": [],
   "source": [
    "from sklearn.ensemble import GradientBoostingClassifier"
   ]
  },
  {
   "cell_type": "code",
   "execution_count": 230,
   "metadata": {},
   "outputs": [],
   "source": [
    "def objective(trial):\n",
    "    # Define hyperparameters to tune\n",
    "    params = {\n",
    "        'n_estimators': trial.suggest_int('n_estimators', 60, 300, step=20),\n",
    "        'max_depth': trial.suggest_categorical('max_depth', [None] + list(range(2, 33, 2))),\n",
    "        'min_samples_split': trial.suggest_int('min_samples_split', 2, 20, step=2),\n",
    "        'min_samples_leaf': trial.suggest_int('min_samples_leaf', 1, 21, step=2),\n",
    "        'max_features': trial.suggest_categorical('max_features', ['sqrt', 'log2', None]),\n",
    "        'learning_rate': trial.suggest_float('learning_rate', 0.01, 0.3, step=0.01),\n",
    "        'subsample': trial.suggest_float('subsample', 0.5, 1.0, step=0.1)\n",
    "    }\n",
    "\n",
    "    # Initialize the model with current parameters\n",
    "    model = GradientBoostingClassifier(**params, random_state=RANDOM_SEED).fit(X_train, y_train)\n",
    "\n",
    "    # Calculate validation AUC-ROC score\n",
    "    val_scores_gboost = model.predict_proba(X_val)[:, 1]\n",
    "    aucroc = roc_auc_score(y_val, val_scores_gboost)\n",
    "\n",
    "    return aucroc"
   ]
  },
  {
   "cell_type": "code",
   "execution_count": 231,
   "metadata": {},
   "outputs": [
    {
     "name": "stderr",
     "output_type": "stream",
     "text": [
      "[I 2024-07-02 21:13:36,990] A new study created in memory with name: no-name-2aa61432-079e-41c1-80ea-2e80333218db\n",
      "[I 2024-07-02 21:14:42,448] Trial 0 finished with value: 0.9938119689418174 and parameters: {'n_estimators': 260, 'max_depth': 20, 'min_samples_split': 10, 'min_samples_leaf': 15, 'max_features': None, 'learning_rate': 0.15000000000000002, 'subsample': 0.6}. Best is trial 0 with value: 0.9938119689418174.\n",
      "[I 2024-07-02 21:14:48,223] Trial 1 finished with value: 0.9932160668085017 and parameters: {'n_estimators': 60, 'max_depth': 24, 'min_samples_split': 14, 'min_samples_leaf': 13, 'max_features': 'sqrt', 'learning_rate': 0.06999999999999999, 'subsample': 0.6}. Best is trial 0 with value: 0.9938119689418174.\n",
      "[I 2024-07-02 21:15:24,272] Trial 2 finished with value: 0.9945057485785204 and parameters: {'n_estimators': 240, 'max_depth': 8, 'min_samples_split': 10, 'min_samples_leaf': 13, 'max_features': None, 'learning_rate': 0.06999999999999999, 'subsample': 0.8}. Best is trial 2 with value: 0.9945057485785204.\n",
      "[I 2024-07-02 21:16:00,442] Trial 3 finished with value: 0.9941932128901947 and parameters: {'n_estimators': 180, 'max_depth': 8, 'min_samples_split': 18, 'min_samples_leaf': 15, 'max_features': None, 'learning_rate': 0.28, 'subsample': 1.0}. Best is trial 2 with value: 0.9945057485785204.\n",
      "[I 2024-07-02 21:16:17,830] Trial 4 finished with value: 0.9936332880775149 and parameters: {'n_estimators': 80, 'max_depth': 22, 'min_samples_split': 6, 'min_samples_leaf': 15, 'max_features': None, 'learning_rate': 0.2, 'subsample': 0.5}. Best is trial 2 with value: 0.9945057485785204.\n",
      "[I 2024-07-02 21:16:26,045] Trial 5 finished with value: 0.9937653033902688 and parameters: {'n_estimators': 200, 'max_depth': 8, 'min_samples_split': 8, 'min_samples_leaf': 15, 'max_features': 'sqrt', 'learning_rate': 0.17, 'subsample': 0.6}. Best is trial 2 with value: 0.9945057485785204.\n",
      "[I 2024-07-02 21:16:50,489] Trial 6 finished with value: 0.9919214803734696 and parameters: {'n_estimators': 100, 'max_depth': 30, 'min_samples_split': 6, 'min_samples_leaf': 3, 'max_features': 'log2', 'learning_rate': 0.22, 'subsample': 0.5}. Best is trial 2 with value: 0.9945057485785204.\n",
      "[I 2024-07-02 21:17:33,964] Trial 7 finished with value: 0.9942384087183314 and parameters: {'n_estimators': 240, 'max_depth': 12, 'min_samples_split': 18, 'min_samples_leaf': 1, 'max_features': None, 'learning_rate': 0.13, 'subsample': 0.6}. Best is trial 2 with value: 0.9945057485785204.\n",
      "[I 2024-07-02 21:17:49,381] Trial 8 finished with value: 0.9933281764304003 and parameters: {'n_estimators': 60, 'max_depth': 30, 'min_samples_split': 8, 'min_samples_leaf': 17, 'max_features': None, 'learning_rate': 0.04, 'subsample': 0.6}. Best is trial 2 with value: 0.9945057485785204.\n",
      "[I 2024-07-02 21:17:53,109] Trial 9 finished with value: 0.9850502845804596 and parameters: {'n_estimators': 300, 'max_depth': 2, 'min_samples_split': 18, 'min_samples_leaf': 11, 'max_features': 'log2', 'learning_rate': 0.09, 'subsample': 0.8}. Best is trial 2 with value: 0.9945057485785204.\n",
      "[I 2024-07-02 21:18:09,130] Trial 10 finished with value: 0.9920873108478279 and parameters: {'n_estimators': 140, 'max_depth': 32, 'min_samples_split': 2, 'min_samples_leaf': 21, 'max_features': 'sqrt', 'learning_rate': 0.01, 'subsample': 0.9}. Best is trial 2 with value: 0.9945057485785204.\n",
      "[I 2024-07-02 21:19:07,916] Trial 11 finished with value: 0.9945761255979408 and parameters: {'n_estimators': 240, 'max_depth': 12, 'min_samples_split': 14, 'min_samples_leaf': 1, 'max_features': None, 'learning_rate': 0.11, 'subsample': 0.8}. Best is trial 11 with value: 0.9945761255979408.\n",
      "[I 2024-07-02 21:19:28,563] Trial 12 finished with value: 0.9933393496805141 and parameters: {'n_estimators': 240, 'max_depth': 4, 'min_samples_split': 14, 'min_samples_leaf': 7, 'max_features': None, 'learning_rate': 0.09999999999999999, 'subsample': 0.8}. Best is trial 11 with value: 0.9945761255979408.\n",
      "[I 2024-07-02 21:21:09,778] Trial 13 finished with value: 0.9945440965221649 and parameters: {'n_estimators': 300, 'max_depth': 14, 'min_samples_split': 14, 'min_samples_leaf': 7, 'max_features': None, 'learning_rate': 0.05, 'subsample': 0.9}. Best is trial 11 with value: 0.9945761255979408.\n",
      "[I 2024-07-02 21:22:56,768] Trial 14 finished with value: 0.9941611796241877 and parameters: {'n_estimators': 300, 'max_depth': 14, 'min_samples_split': 14, 'min_samples_leaf': 5, 'max_features': None, 'learning_rate': 0.03, 'subsample': 1.0}. Best is trial 11 with value: 0.9945761255979408.\n",
      "[I 2024-07-02 21:23:47,903] Trial 15 finished with value: 0.9938764838285139 and parameters: {'n_estimators': 280, 'max_depth': 18, 'min_samples_split': 14, 'min_samples_leaf': 7, 'max_features': 'log2', 'learning_rate': 0.11, 'subsample': 0.9}. Best is trial 11 with value: 0.9945761255979408.\n",
      "[I 2024-07-02 21:24:52,298] Trial 16 finished with value: 0.9945036964130437 and parameters: {'n_estimators': 200, 'max_depth': 14, 'min_samples_split': 20, 'min_samples_leaf': 1, 'max_features': None, 'learning_rate': 0.05, 'subsample': 0.9}. Best is trial 11 with value: 0.9945761255979408.\n",
      "[I 2024-07-02 21:25:50,297] Trial 17 finished with value: 0.9941177866428019 and parameters: {'n_estimators': 260, 'max_depth': 12, 'min_samples_split': 12, 'min_samples_leaf': 9, 'max_features': None, 'learning_rate': 0.17, 'subsample': 0.7}. Best is trial 11 with value: 0.9945761255979408.\n",
      "[I 2024-07-02 21:26:31,270] Trial 18 finished with value: 0.9933450096346078 and parameters: {'n_estimators': 220, 'max_depth': 28, 'min_samples_split': 16, 'min_samples_leaf': 5, 'max_features': 'log2', 'learning_rate': 0.01, 'subsample': 0.7}. Best is trial 11 with value: 0.9945761255979408.\n",
      "[I 2024-07-02 21:26:54,253] Trial 19 finished with value: 0.9934527771299624 and parameters: {'n_estimators': 140, 'max_depth': 16, 'min_samples_split': 12, 'min_samples_leaf': 3, 'max_features': 'sqrt', 'learning_rate': 0.28, 'subsample': 0.9}. Best is trial 11 with value: 0.9945761255979408.\n",
      "[I 2024-07-02 21:28:04,839] Trial 20 finished with value: 0.9945724036255376 and parameters: {'n_estimators': 280, 'max_depth': 10, 'min_samples_split': 16, 'min_samples_leaf': 9, 'max_features': None, 'learning_rate': 0.12, 'subsample': 1.0}. Best is trial 11 with value: 0.9945761255979408.\n",
      "[I 2024-07-02 21:29:18,035] Trial 21 finished with value: 0.9944823807095641 and parameters: {'n_estimators': 280, 'max_depth': 10, 'min_samples_split': 16, 'min_samples_leaf': 9, 'max_features': None, 'learning_rate': 0.13, 'subsample': 1.0}. Best is trial 11 with value: 0.9945761255979408.\n",
      "[I 2024-07-02 21:30:36,268] Trial 22 finished with value: 0.9945831201405071 and parameters: {'n_estimators': 300, 'max_depth': 10, 'min_samples_split': 16, 'min_samples_leaf': 9, 'max_features': None, 'learning_rate': 0.08, 'subsample': 1.0}. Best is trial 22 with value: 0.9945831201405071.\n",
      "[I 2024-07-02 21:31:44,740] Trial 23 finished with value: 0.9945344726098458 and parameters: {'n_estimators': 280, 'max_depth': 10, 'min_samples_split': 20, 'min_samples_leaf': 11, 'max_features': None, 'learning_rate': 0.12, 'subsample': 1.0}. Best is trial 22 with value: 0.9945831201405071.\n",
      "[I 2024-07-02 21:34:03,248] Trial 24 finished with value: 0.9943925379735098 and parameters: {'n_estimators': 260, 'max_depth': None, 'min_samples_split': 16, 'min_samples_leaf': 21, 'max_features': None, 'learning_rate': 0.08, 'subsample': 1.0}. Best is trial 22 with value: 0.9945831201405071.\n",
      "[I 2024-07-02 21:34:52,102] Trial 25 finished with value: 0.9943349694417267 and parameters: {'n_estimators': 220, 'max_depth': 10, 'min_samples_split': 16, 'min_samples_leaf': 9, 'max_features': None, 'learning_rate': 0.15000000000000002, 'subsample': 0.8}. Best is trial 22 with value: 0.9945831201405071.\n",
      "[I 2024-07-02 21:35:54,805] Trial 26 finished with value: 0.9940139118717513 and parameters: {'n_estimators': 280, 'max_depth': 26, 'min_samples_split': 18, 'min_samples_leaf': 5, 'max_features': None, 'learning_rate': 0.22, 'subsample': 1.0}. Best is trial 22 with value: 0.9945831201405071.\n",
      "[I 2024-07-02 21:36:36,360] Trial 27 finished with value: 0.9942676649089536 and parameters: {'n_estimators': 300, 'max_depth': 6, 'min_samples_split': 12, 'min_samples_leaf': 19, 'max_features': None, 'learning_rate': 0.19, 'subsample': 0.9}. Best is trial 22 with value: 0.9945831201405071.\n",
      "[I 2024-07-02 21:36:52,011] Trial 28 finished with value: 0.9941049896782989 and parameters: {'n_estimators': 260, 'max_depth': 10, 'min_samples_split': 20, 'min_samples_leaf': 11, 'max_features': 'sqrt', 'learning_rate': 0.09999999999999999, 'subsample': 0.7}. Best is trial 22 with value: 0.9945831201405071.\n",
      "[I 2024-07-02 21:37:30,642] Trial 29 finished with value: 0.9939081986369888 and parameters: {'n_estimators': 260, 'max_depth': 20, 'min_samples_split': 16, 'min_samples_leaf': 3, 'max_features': 'log2', 'learning_rate': 0.15000000000000002, 'subsample': 1.0}. Best is trial 22 with value: 0.9945831201405071.\n",
      "[I 2024-07-02 21:38:34,607] Trial 30 finished with value: 0.9945609580104297 and parameters: {'n_estimators': 220, 'max_depth': 12, 'min_samples_split': 10, 'min_samples_leaf': 13, 'max_features': None, 'learning_rate': 0.14, 'subsample': 0.9}. Best is trial 22 with value: 0.9945831201405071.\n",
      "[I 2024-07-02 21:39:38,602] Trial 31 finished with value: 0.994521214719968 and parameters: {'n_estimators': 220, 'max_depth': 12, 'min_samples_split': 10, 'min_samples_leaf': 13, 'max_features': None, 'learning_rate': 0.13, 'subsample': 0.9}. Best is trial 22 with value: 0.9945831201405071.\n",
      "[I 2024-07-02 21:40:29,057] Trial 32 finished with value: 0.9944837341540744 and parameters: {'n_estimators': 200, 'max_depth': 12, 'min_samples_split': 12, 'min_samples_leaf': 13, 'max_features': None, 'learning_rate': 0.06999999999999999, 'subsample': 0.8}. Best is trial 22 with value: 0.9945831201405071.\n",
      "[I 2024-07-02 21:41:50,140] Trial 33 finished with value: 0.9941446344983398 and parameters: {'n_estimators': 240, 'max_depth': 24, 'min_samples_split': 8, 'min_samples_leaf': 17, 'max_features': None, 'learning_rate': 0.15000000000000002, 'subsample': 0.9}. Best is trial 22 with value: 0.9945831201405071.\n",
      "[I 2024-07-02 21:42:31,529] Trial 34 finished with value: 0.9943184389816859 and parameters: {'n_estimators': 160, 'max_depth': 12, 'min_samples_split': 10, 'min_samples_leaf': 11, 'max_features': None, 'learning_rate': 0.11, 'subsample': 1.0}. Best is trial 22 with value: 0.9945831201405071.\n",
      "[I 2024-07-02 21:43:14,727] Trial 35 finished with value: 0.9946173993701594 and parameters: {'n_estimators': 240, 'max_depth': 10, 'min_samples_split': 14, 'min_samples_leaf': 9, 'max_features': None, 'learning_rate': 0.06999999999999999, 'subsample': 0.8}. Best is trial 35 with value: 0.9946173993701594.\n",
      "[I 2024-07-02 21:43:58,157] Trial 36 finished with value: 0.9945038629747133 and parameters: {'n_estimators': 280, 'max_depth': 10, 'min_samples_split': 14, 'min_samples_leaf': 9, 'max_features': None, 'learning_rate': 0.06999999999999999, 'subsample': 0.7}. Best is trial 35 with value: 0.9946173993701594.\n",
      "[I 2024-07-02 21:44:09,411] Trial 37 finished with value: 0.9941884831673123 and parameters: {'n_estimators': 180, 'max_depth': 10, 'min_samples_split': 16, 'min_samples_leaf': 5, 'max_features': 'sqrt', 'learning_rate': 0.060000000000000005, 'subsample': 0.8}. Best is trial 35 with value: 0.9946173993701594.\n",
      "[I 2024-07-02 21:44:54,228] Trial 38 finished with value: 0.9946123889018212 and parameters: {'n_estimators': 260, 'max_depth': 10, 'min_samples_split': 18, 'min_samples_leaf': 7, 'max_features': None, 'learning_rate': 0.08, 'subsample': 0.8}. Best is trial 35 with value: 0.9946173993701594.\n",
      "[I 2024-07-02 21:46:05,836] Trial 39 finished with value: 0.9942197045761243 and parameters: {'n_estimators': 240, 'max_depth': 22, 'min_samples_split': 18, 'min_samples_leaf': 7, 'max_features': None, 'learning_rate': 0.03, 'subsample': 0.7}. Best is trial 35 with value: 0.9946173993701594.\n",
      "[I 2024-07-02 21:46:15,505] Trial 40 finished with value: 0.9865619831042735 and parameters: {'n_estimators': 260, 'max_depth': 2, 'min_samples_split': 18, 'min_samples_leaf': 1, 'max_features': None, 'learning_rate': 0.09, 'subsample': 0.8}. Best is trial 35 with value: 0.9946173993701594.\n",
      "[I 2024-07-02 21:47:08,601] Trial 41 finished with value: 0.994621231336118 and parameters: {'n_estimators': 300, 'max_depth': 10, 'min_samples_split': 14, 'min_samples_leaf': 9, 'max_features': None, 'learning_rate': 0.08, 'subsample': 0.8}. Best is trial 41 with value: 0.994621231336118.\n",
      "[I 2024-07-02 21:48:00,719] Trial 42 finished with value: 0.9939990009358692 and parameters: {'n_estimators': 300, 'max_depth': 10, 'min_samples_split': 14, 'min_samples_leaf': 7, 'max_features': None, 'learning_rate': 0.3, 'subsample': 0.8}. Best is trial 41 with value: 0.994621231336118.\n",
      "[I 2024-07-02 21:48:36,088] Trial 43 finished with value: 0.9946166440810789 and parameters: {'n_estimators': 240, 'max_depth': 8, 'min_samples_split': 12, 'min_samples_leaf': 11, 'max_features': None, 'learning_rate': 0.08, 'subsample': 0.8}. Best is trial 41 with value: 0.994621231336118.\n",
      "[I 2024-07-02 21:49:00,015] Trial 44 finished with value: 0.9943171085834444 and parameters: {'n_estimators': 260, 'max_depth': 8, 'min_samples_split': 12, 'min_samples_leaf': 11, 'max_features': None, 'learning_rate': 0.08, 'subsample': 0.5}. Best is trial 41 with value: 0.994621231336118.\n",
      "[I 2024-07-02 21:49:11,243] Trial 45 finished with value: 0.9941180673882579 and parameters: {'n_estimators': 300, 'max_depth': 8, 'min_samples_split': 18, 'min_samples_leaf': 9, 'max_features': 'log2', 'learning_rate': 0.05, 'subsample': 0.7}. Best is trial 41 with value: 0.994621231336118.\n",
      "[I 2024-07-02 21:49:16,418] Trial 46 finished with value: 0.9877361171681186 and parameters: {'n_estimators': 280, 'max_depth': 4, 'min_samples_split': 14, 'min_samples_leaf': 11, 'max_features': 'sqrt', 'learning_rate': 0.03, 'subsample': 0.8}. Best is trial 41 with value: 0.994621231336118.\n",
      "[I 2024-07-02 21:50:22,188] Trial 47 finished with value: 0.9938827890781328 and parameters: {'n_estimators': 240, 'max_depth': 32, 'min_samples_split': 2, 'min_samples_leaf': 15, 'max_features': None, 'learning_rate': 0.09, 'subsample': 0.6}. Best is trial 41 with value: 0.994621231336118.\n",
      "[I 2024-07-02 21:50:50,665] Trial 48 finished with value: 0.9939299260306329 and parameters: {'n_estimators': 100, 'max_depth': 18, 'min_samples_split': 12, 'min_samples_leaf': 7, 'max_features': None, 'learning_rate': 0.060000000000000005, 'subsample': 0.8}. Best is trial 41 with value: 0.994621231336118.\n",
      "[I 2024-07-02 21:52:47,497] Trial 49 finished with value: 0.9942342226778799 and parameters: {'n_estimators': 300, 'max_depth': None, 'min_samples_split': 14, 'min_samples_leaf': 9, 'max_features': None, 'learning_rate': 0.04, 'subsample': 0.7}. Best is trial 41 with value: 0.994621231336118.\n",
      "[I 2024-07-02 21:54:27,253] Trial 50 finished with value: 0.9941775948528849 and parameters: {'n_estimators': 240, 'max_depth': 30, 'min_samples_split': 20, 'min_samples_leaf': 11, 'max_features': None, 'learning_rate': 0.06999999999999999, 'subsample': 0.8}. Best is trial 41 with value: 0.994621231336118.\n",
      "[I 2024-07-02 21:56:06,537] Trial 51 finished with value: 0.9937582491369158 and parameters: {'n_estimators': 200, 'max_depth': 28, 'min_samples_split': 4, 'min_samples_leaf': 3, 'max_features': None, 'learning_rate': 0.09999999999999999, 'subsample': 0.8}. Best is trial 41 with value: 0.994621231336118.\n",
      "[I 2024-07-02 21:56:40,565] Trial 52 finished with value: 0.9945438419656509 and parameters: {'n_estimators': 220, 'max_depth': 8, 'min_samples_split': 14, 'min_samples_leaf': 7, 'max_features': None, 'learning_rate': 0.08, 'subsample': 0.8}. Best is trial 41 with value: 0.994621231336118.\n",
      "[I 2024-07-02 21:57:22,391] Trial 53 finished with value: 0.9944536933427569 and parameters: {'n_estimators': 240, 'max_depth': 10, 'min_samples_split': 16, 'min_samples_leaf': 13, 'max_features': None, 'learning_rate': 0.11, 'subsample': 0.8}. Best is trial 41 with value: 0.994621231336118.\n",
      "[I 2024-07-02 21:57:27,462] Trial 54 finished with value: 0.9925837798546158 and parameters: {'n_estimators': 180, 'max_depth': 6, 'min_samples_split': 14, 'min_samples_leaf': 9, 'max_features': 'log2', 'learning_rate': 0.060000000000000005, 'subsample': 0.9}. Best is trial 41 with value: 0.994621231336118.\n",
      "[I 2024-07-02 21:58:34,923] Trial 55 finished with value: 0.9941022283162795 and parameters: {'n_estimators': 260, 'max_depth': 16, 'min_samples_split': 12, 'min_samples_leaf': 5, 'max_features': None, 'learning_rate': 0.09, 'subsample': 0.7}. Best is trial 41 with value: 0.994621231336118.\n",
      "[I 2024-07-02 22:00:18,931] Trial 56 finished with value: 0.9940036332358883 and parameters: {'n_estimators': 280, 'max_depth': 26, 'min_samples_split': 16, 'min_samples_leaf': 11, 'max_features': None, 'learning_rate': 0.02, 'subsample': 0.9}. Best is trial 41 with value: 0.994621231336118.\n",
      "[I 2024-07-02 22:01:51,438] Trial 57 finished with value: 0.9944256544141481 and parameters: {'n_estimators': 300, 'max_depth': 20, 'min_samples_split': 18, 'min_samples_leaf': 13, 'max_features': None, 'learning_rate': 0.04, 'subsample': 0.8}. Best is trial 41 with value: 0.994621231336118.\n",
      "[I 2024-07-02 22:02:19,503] Trial 58 finished with value: 0.9932973059534079 and parameters: {'n_estimators': 260, 'max_depth': 24, 'min_samples_split': 12, 'min_samples_leaf': 9, 'max_features': 'sqrt', 'learning_rate': 0.12, 'subsample': 0.6}. Best is trial 41 with value: 0.994621231336118.\n",
      "[I 2024-07-02 22:03:02,948] Trial 59 finished with value: 0.9944886932920866 and parameters: {'n_estimators': 220, 'max_depth': 10, 'min_samples_split': 14, 'min_samples_leaf': 7, 'max_features': None, 'learning_rate': 0.09999999999999999, 'subsample': 0.8}. Best is trial 41 with value: 0.994621231336118.\n",
      "[I 2024-07-02 22:04:33,236] Trial 60 finished with value: 0.9943626186788822 and parameters: {'n_estimators': 200, 'max_depth': 22, 'min_samples_split': 18, 'min_samples_leaf': 3, 'max_features': None, 'learning_rate': 0.08, 'subsample': 0.9}. Best is trial 41 with value: 0.994621231336118.\n",
      "[I 2024-07-02 22:05:41,618] Trial 61 finished with value: 0.9945724036255376 and parameters: {'n_estimators': 280, 'max_depth': 10, 'min_samples_split': 16, 'min_samples_leaf': 9, 'max_features': None, 'learning_rate': 0.12, 'subsample': 1.0}. Best is trial 41 with value: 0.994621231336118.\n",
      "[I 2024-07-02 22:06:38,096] Trial 62 finished with value: 0.9943606566033655 and parameters: {'n_estimators': 280, 'max_depth': 10, 'min_samples_split': 16, 'min_samples_leaf': 7, 'max_features': None, 'learning_rate': 0.17, 'subsample': 0.8}. Best is trial 41 with value: 0.994621231336118.\n",
      "[I 2024-07-02 22:07:40,782] Trial 63 finished with value: 0.9944823807095641 and parameters: {'n_estimators': 280, 'max_depth': 10, 'min_samples_split': 16, 'min_samples_leaf': 9, 'max_features': None, 'learning_rate': 0.13, 'subsample': 1.0}. Best is trial 41 with value: 0.994621231336118.\n",
      "[I 2024-07-02 22:08:39,202] Trial 64 finished with value: 0.9945384428534171 and parameters: {'n_estimators': 300, 'max_depth': 10, 'min_samples_split': 14, 'min_samples_leaf': 9, 'max_features': None, 'learning_rate': 0.11, 'subsample': 0.9}. Best is trial 41 with value: 0.994621231336118.\n",
      "[I 2024-07-02 22:10:06,410] Trial 65 finished with value: 0.9941276630165198 and parameters: {'n_estimators': 260, 'max_depth': 32, 'min_samples_split': 16, 'min_samples_leaf': 11, 'max_features': None, 'learning_rate': 0.060000000000000005, 'subsample': 0.7}. Best is trial 41 with value: 0.994621231336118.\n",
      "[I 2024-07-02 22:10:27,503] Trial 66 finished with value: 0.9942608275000382 and parameters: {'n_estimators': 240, 'max_depth': 14, 'min_samples_split': 14, 'min_samples_leaf': 9, 'max_features': 'log2', 'learning_rate': 0.09, 'subsample': 0.9}. Best is trial 41 with value: 0.994621231336118.\n",
      "[I 2024-07-02 22:11:14,230] Trial 67 finished with value: 0.9945734208040357 and parameters: {'n_estimators': 300, 'max_depth': 8, 'min_samples_split': 12, 'min_samples_leaf': 5, 'max_features': None, 'learning_rate': 0.08, 'subsample': 1.0}. Best is trial 41 with value: 0.994621231336118.\n",
      "[I 2024-07-02 22:11:54,008] Trial 68 finished with value: 0.9946033704778356 and parameters: {'n_estimators': 300, 'max_depth': 8, 'min_samples_split': 8, 'min_samples_leaf': 1, 'max_features': None, 'learning_rate': 0.05, 'subsample': 0.8}. Best is trial 41 with value: 0.994621231336118.\n",
      "[I 2024-07-02 22:12:32,608] Trial 69 finished with value: 0.9946580236566219 and parameters: {'n_estimators': 300, 'max_depth': 8, 'min_samples_split': 10, 'min_samples_leaf': 1, 'max_features': None, 'learning_rate': 0.05, 'subsample': 0.8}. Best is trial 69 with value: 0.9946580236566219.\n",
      "[I 2024-07-02 22:13:11,670] Trial 70 finished with value: 0.9946033704778356 and parameters: {'n_estimators': 300, 'max_depth': 8, 'min_samples_split': 8, 'min_samples_leaf': 1, 'max_features': None, 'learning_rate': 0.05, 'subsample': 0.8}. Best is trial 69 with value: 0.9946580236566219.\n",
      "[I 2024-07-02 22:13:50,220] Trial 71 finished with value: 0.9946033704778356 and parameters: {'n_estimators': 300, 'max_depth': 8, 'min_samples_split': 8, 'min_samples_leaf': 1, 'max_features': None, 'learning_rate': 0.05, 'subsample': 0.8}. Best is trial 69 with value: 0.9946580236566219.\n",
      "[I 2024-07-02 22:14:28,462] Trial 72 finished with value: 0.9946033704778356 and parameters: {'n_estimators': 300, 'max_depth': 8, 'min_samples_split': 8, 'min_samples_leaf': 1, 'max_features': None, 'learning_rate': 0.05, 'subsample': 0.8}. Best is trial 69 with value: 0.9946580236566219.\n",
      "[I 2024-07-02 22:15:06,175] Trial 73 finished with value: 0.9938857861406282 and parameters: {'n_estimators': 300, 'max_depth': 8, 'min_samples_split': 6, 'min_samples_leaf': 1, 'max_features': None, 'learning_rate': 0.02, 'subsample': 0.8}. Best is trial 69 with value: 0.9946580236566219.\n",
      "[I 2024-07-02 22:15:41,738] Trial 74 finished with value: 0.9945364891583617 and parameters: {'n_estimators': 280, 'max_depth': 8, 'min_samples_split': 8, 'min_samples_leaf': 3, 'max_features': None, 'learning_rate': 0.04, 'subsample': 0.8}. Best is trial 69 with value: 0.9946580236566219.\n",
      "[I 2024-07-02 22:16:19,445] Trial 75 finished with value: 0.9938857861406282 and parameters: {'n_estimators': 300, 'max_depth': 8, 'min_samples_split': 6, 'min_samples_leaf': 1, 'max_features': None, 'learning_rate': 0.02, 'subsample': 0.8}. Best is trial 69 with value: 0.9946580236566219.\n",
      "[I 2024-07-02 22:16:29,204] Trial 76 finished with value: 0.9942284422546541 and parameters: {'n_estimators': 280, 'max_depth': 8, 'min_samples_split': 8, 'min_samples_leaf': 1, 'max_features': 'sqrt', 'learning_rate': 0.05, 'subsample': 0.8}. Best is trial 69 with value: 0.9946580236566219.\n",
      "[I 2024-07-02 22:17:07,578] Trial 77 finished with value: 0.9946166336055021 and parameters: {'n_estimators': 300, 'max_depth': 8, 'min_samples_split': 10, 'min_samples_leaf': 3, 'max_features': None, 'learning_rate': 0.06999999999999999, 'subsample': 0.8}. Best is trial 69 with value: 0.9946580236566219.\n",
      "[I 2024-07-02 22:17:43,311] Trial 78 finished with value: 0.9946344117067286 and parameters: {'n_estimators': 280, 'max_depth': 8, 'min_samples_split': 10, 'min_samples_leaf': 3, 'max_features': None, 'learning_rate': 0.06999999999999999, 'subsample': 0.8}. Best is trial 69 with value: 0.9946580236566219.\n",
      "[I 2024-07-02 22:18:13,160] Trial 79 finished with value: 0.9945549324587087 and parameters: {'n_estimators': 260, 'max_depth': 8, 'min_samples_split': 10, 'min_samples_leaf': 3, 'max_features': None, 'learning_rate': 0.06999999999999999, 'subsample': 0.7}. Best is trial 69 with value: 0.9946580236566219.\n",
      "[I 2024-07-02 22:18:18,112] Trial 80 finished with value: 0.9930181863072138 and parameters: {'n_estimators': 280, 'max_depth': 4, 'min_samples_split': 10, 'min_samples_leaf': 3, 'max_features': 'log2', 'learning_rate': 0.25, 'subsample': 0.8}. Best is trial 69 with value: 0.9946580236566219.\n",
      "[I 2024-07-02 22:18:56,322] Trial 81 finished with value: 0.9946537517164415 and parameters: {'n_estimators': 300, 'max_depth': 8, 'min_samples_split': 10, 'min_samples_leaf': 1, 'max_features': None, 'learning_rate': 0.060000000000000005, 'subsample': 0.8}. Best is trial 69 with value: 0.9946580236566219.\n",
      "[I 2024-07-02 22:19:32,082] Trial 82 finished with value: 0.9946344117067286 and parameters: {'n_estimators': 280, 'max_depth': 8, 'min_samples_split': 10, 'min_samples_leaf': 3, 'max_features': None, 'learning_rate': 0.06999999999999999, 'subsample': 0.8}. Best is trial 69 with value: 0.9946580236566219.\n",
      "[I 2024-07-02 22:19:42,391] Trial 83 finished with value: 0.9850555569382153 and parameters: {'n_estimators': 280, 'max_depth': 2, 'min_samples_split': 10, 'min_samples_leaf': 3, 'max_features': None, 'learning_rate': 0.06999999999999999, 'subsample': 0.8}. Best is trial 69 with value: 0.9946580236566219.\n",
      "[I 2024-07-02 22:21:34,411] Trial 84 finished with value: 0.9940873467120124 and parameters: {'n_estimators': 260, 'max_depth': 30, 'min_samples_split': 10, 'min_samples_leaf': 5, 'max_features': None, 'learning_rate': 0.060000000000000005, 'subsample': 0.8}. Best is trial 69 with value: 0.9946580236566219.\n",
      "[I 2024-07-02 22:41:04,650] Trial 85 finished with value: 0.9942707101591018 and parameters: {'n_estimators': 280, 'max_depth': 18, 'min_samples_split': 10, 'min_samples_leaf': 3, 'max_features': None, 'learning_rate': 0.06999999999999999, 'subsample': 0.8}. Best is trial 69 with value: 0.9946580236566219.\n",
      "[I 2024-07-02 22:41:23,709] Trial 86 finished with value: 0.9935317807867997 and parameters: {'n_estimators': 60, 'max_depth': 28, 'min_samples_split': 10, 'min_samples_leaf': 5, 'max_features': None, 'learning_rate': 0.09999999999999999, 'subsample': 0.7}. Best is trial 69 with value: 0.9946580236566219.\n",
      "[I 2024-07-02 22:41:59,728] Trial 87 finished with value: 0.9944991887723874 and parameters: {'n_estimators': 280, 'max_depth': 8, 'min_samples_split': 10, 'min_samples_leaf': 3, 'max_features': None, 'learning_rate': 0.04, 'subsample': 0.8}. Best is trial 69 with value: 0.9946580236566219.\n",
      "[I 2024-07-02 22:43:50,577] Trial 88 finished with value: 0.9937663048554021 and parameters: {'n_estimators': 260, 'max_depth': None, 'min_samples_split': 12, 'min_samples_leaf': 3, 'max_features': None, 'learning_rate': 0.09, 'subsample': 0.8}. Best is trial 69 with value: 0.9946580236566219.\n",
      "[I 2024-07-02 22:44:24,440] Trial 89 finished with value: 0.9940216135157448 and parameters: {'n_estimators': 300, 'max_depth': 16, 'min_samples_split': 12, 'min_samples_leaf': 5, 'max_features': 'sqrt', 'learning_rate': 0.060000000000000005, 'subsample': 0.8}. Best is trial 69 with value: 0.9946580236566219.\n",
      "[I 2024-07-02 22:44:36,395] Trial 90 finished with value: 0.9939216000422676 and parameters: {'n_estimators': 140, 'max_depth': 6, 'min_samples_split': 10, 'min_samples_leaf': 1, 'max_features': None, 'learning_rate': 0.08, 'subsample': 0.7}. Best is trial 69 with value: 0.9946580236566219.\n",
      "[I 2024-07-02 22:45:14,561] Trial 91 finished with value: 0.9946921279441434 and parameters: {'n_estimators': 300, 'max_depth': 8, 'min_samples_split': 8, 'min_samples_leaf': 1, 'max_features': None, 'learning_rate': 0.06999999999999999, 'subsample': 0.8}. Best is trial 91 with value: 0.9946921279441434.\n",
      "[I 2024-07-02 22:45:52,575] Trial 92 finished with value: 0.9946534426869288 and parameters: {'n_estimators': 300, 'max_depth': 8, 'min_samples_split': 10, 'min_samples_leaf': 1, 'max_features': None, 'learning_rate': 0.06999999999999999, 'subsample': 0.8}. Best is trial 91 with value: 0.9946921279441434.\n",
      "[I 2024-07-02 22:46:30,424] Trial 93 finished with value: 0.9946537517164415 and parameters: {'n_estimators': 300, 'max_depth': 8, 'min_samples_split': 10, 'min_samples_leaf': 1, 'max_features': None, 'learning_rate': 0.060000000000000005, 'subsample': 0.8}. Best is trial 91 with value: 0.9946921279441434.\n",
      "[I 2024-07-02 22:47:08,265] Trial 94 finished with value: 0.9946537517164415 and parameters: {'n_estimators': 300, 'max_depth': 8, 'min_samples_split': 10, 'min_samples_leaf': 1, 'max_features': None, 'learning_rate': 0.060000000000000005, 'subsample': 0.8}. Best is trial 91 with value: 0.9946921279441434.\n",
      "[I 2024-07-02 22:47:45,828] Trial 95 finished with value: 0.9944399598616964 and parameters: {'n_estimators': 300, 'max_depth': 8, 'min_samples_split': 10, 'min_samples_leaf': 1, 'max_features': None, 'learning_rate': 0.03, 'subsample': 0.8}. Best is trial 91 with value: 0.9946921279441434.\n",
      "[I 2024-07-02 22:48:23,716] Trial 96 finished with value: 0.9946725585193004 and parameters: {'n_estimators': 300, 'max_depth': 8, 'min_samples_split': 6, 'min_samples_leaf': 1, 'max_features': None, 'learning_rate': 0.060000000000000005, 'subsample': 0.8}. Best is trial 91 with value: 0.9946921279441434.\n",
      "[I 2024-07-02 22:49:01,632] Trial 97 finished with value: 0.9945864828006292 and parameters: {'n_estimators': 300, 'max_depth': 8, 'min_samples_split': 6, 'min_samples_leaf': 1, 'max_features': None, 'learning_rate': 0.04, 'subsample': 0.8}. Best is trial 91 with value: 0.9946921279441434.\n",
      "[I 2024-07-02 22:49:39,592] Trial 98 finished with value: 0.9946725585193004 and parameters: {'n_estimators': 300, 'max_depth': 8, 'min_samples_split': 6, 'min_samples_leaf': 1, 'max_features': None, 'learning_rate': 0.060000000000000005, 'subsample': 0.8}. Best is trial 91 with value: 0.9946921279441434.\n",
      "[I 2024-07-02 22:50:14,942] Trial 99 finished with value: 0.9946336574652057 and parameters: {'n_estimators': 280, 'max_depth': 8, 'min_samples_split': 6, 'min_samples_leaf': 1, 'max_features': None, 'learning_rate': 0.060000000000000005, 'subsample': 0.8}. Best is trial 91 with value: 0.9946921279441434.\n"
     ]
    }
   ],
   "source": [
    "# Create a study and optimize the objective function\n",
    "study = optuna.create_study(direction='maximize')\n",
    "study.optimize(objective, n_trials=100)"
   ]
  },
  {
   "cell_type": "code",
   "execution_count": 145,
   "metadata": {},
   "outputs": [],
   "source": [
    "params = {'n_estimators': 300, 'max_depth': 8, 'min_samples_split': 8, 'min_samples_leaf': 1, 'max_features': None, 'learning_rate': 0.06999999999999999, 'subsample': 0.8}\n",
    "\n",
    "model_gboost = GradientBoostingClassifier(**params, random_state=RANDOM_SEED).fit(X_train, y_train)"
   ]
  },
  {
   "cell_type": "markdown",
   "metadata": {},
   "source": [
    "## Conjunto de validação"
   ]
  },
  {
   "cell_type": "code",
   "execution_count": 150,
   "metadata": {},
   "outputs": [],
   "source": [
    "val_scores_gboost = model_gboost.predict_proba(X_val)[:, 1]"
   ]
  },
  {
   "cell_type": "code",
   "execution_count": 151,
   "metadata": {},
   "outputs": [
    {
     "data": {
      "image/png": "[encoded data removed]",
      "text/plain": [
       "<Figure size 640x480 with 1 Axes>"
      ]
     },
     "metadata": {},
     "output_type": "display_data"
    }
   ],
   "source": [
    "plot_roc_curve(y_val, val_scores_gboost)"
   ]
  },
  {
   "cell_type": "code",
   "execution_count": 152,
   "metadata": {},
   "outputs": [
    {
     "data": {
      "text/html": [
       "<div>\n",
       "<style scoped>\n",
       "    .dataframe tbody tr th:only-of-type {\n",
       "        vertical-align: middle;\n",
       "    }\n",
       "\n",
       "    .dataframe tbody tr th {\n",
       "        vertical-align: top;\n",
       "    }\n",
       "\n",
       "    .dataframe thead th {\n",
       "        text-align: right;\n",
       "    }\n",
       "</style>\n",
       "<table border=\"1\" class=\"dataframe\">\n",
       "  <thead>\n",
       "    <tr style=\"text-align: right;\">\n",
       "      <th></th>\n",
       "      <th>fpr</th>\n",
       "      <th>tpr</th>\n",
       "      <th>thresholds</th>\n",
       "      <th>youden-index</th>\n",
       "    </tr>\n",
       "  </thead>\n",
       "  <tbody>\n",
       "    <tr>\n",
       "      <th>1178</th>\n",
       "      <td>0.026457</td>\n",
       "      <td>0.944714</td>\n",
       "      <td>0.474973</td>\n",
       "      <td>0.918256</td>\n",
       "    </tr>\n",
       "    <tr>\n",
       "      <th>1176</th>\n",
       "      <td>0.026429</td>\n",
       "      <td>0.944677</td>\n",
       "      <td>0.475317</td>\n",
       "      <td>0.918248</td>\n",
       "    </tr>\n",
       "    <tr>\n",
       "      <th>1174</th>\n",
       "      <td>0.026401</td>\n",
       "      <td>0.944640</td>\n",
       "      <td>0.475386</td>\n",
       "      <td>0.918239</td>\n",
       "    </tr>\n",
       "    <tr>\n",
       "      <th>1172</th>\n",
       "      <td>0.026372</td>\n",
       "      <td>0.944603</td>\n",
       "      <td>0.475658</td>\n",
       "      <td>0.918230</td>\n",
       "    </tr>\n",
       "    <tr>\n",
       "      <th>1210</th>\n",
       "      <td>0.027534</td>\n",
       "      <td>0.945749</td>\n",
       "      <td>0.459709</td>\n",
       "      <td>0.918215</td>\n",
       "    </tr>\n",
       "  </tbody>\n",
       "</table>\n",
       "</div>"
      ],
      "text/plain": [
       "           fpr       tpr  thresholds  youden-index\n",
       "1178  0.026457  0.944714    0.474973      0.918256\n",
       "1176  0.026429  0.944677    0.475317      0.918248\n",
       "1174  0.026401  0.944640    0.475386      0.918239\n",
       "1172  0.026372  0.944603    0.475658      0.918230\n",
       "1210  0.027534  0.945749    0.459709      0.918215"
      ]
     },
     "execution_count": 152,
     "metadata": {},
     "output_type": "execute_result"
    }
   ],
   "source": [
    "fpr, tpr, thresholds = roc_curve(y_val, val_scores_gboost)\n",
    "df_val_roc = pd.DataFrame({'fpr':fpr, 'tpr':tpr, 'thresholds':thresholds})\n",
    "df_val_roc['youden-index'] = df_val_roc['tpr'] - df_val_roc['fpr']\n",
    "df_val_roc.sort_values('youden-index', ascending=False).drop_duplicates('tpr').query('tpr > 0.9').head()"
   ]
  },
  {
   "cell_type": "code",
   "execution_count": 153,
   "metadata": {},
   "outputs": [],
   "source": [
    "BEST_RFOREST_VALIDATION_THRESHOLD = 0.474973"
   ]
  },
  {
   "cell_type": "code",
   "execution_count": 154,
   "metadata": {},
   "outputs": [
    {
     "data": {
      "image/png": "[encoded data removed]",
      "text/plain": [
       "<Figure size 640x480 with 2 Axes>"
      ]
     },
     "metadata": {},
     "output_type": "display_data"
    }
   ],
   "source": [
    "plot_confusion_matrix(y_val, val_scores_gboost > BEST_RFOREST_VALIDATION_THRESHOLD)"
   ]
  },
  {
   "cell_type": "code",
   "execution_count": 156,
   "metadata": {},
   "outputs": [
    {
     "data": {
      "text/plain": [
       "{'acc': 0.9610381277769757,\n",
       " 'tpr': 0.9447135830775489,\n",
       " 'fpr': 0.02645742450852643,\n",
       " 'precision': 0.9647280966767372,\n",
       " 'f1-score': 0.954615945143028}"
      ]
     },
     "execution_count": 156,
     "metadata": {},
     "output_type": "execute_result"
    }
   ],
   "source": [
    "get_overall_metrics(y_val, val_scores_gboost > BEST_RFOREST_VALIDATION_THRESHOLD)"
   ]
  },
  {
   "cell_type": "markdown",
   "metadata": {},
   "source": [
    "## Conjunto de teste"
   ]
  },
  {
   "cell_type": "code",
   "execution_count": 157,
   "metadata": {},
   "outputs": [],
   "source": [
    "test_scores_gboost = model_gboost.predict_proba(X_test)[:, 1]"
   ]
  },
  {
   "cell_type": "code",
   "execution_count": 158,
   "metadata": {},
   "outputs": [
    {
     "data": {
      "image/png": "[encoded data removed]",
      "text/plain": [
       "<Figure size 640x480 with 1 Axes>"
      ]
     },
     "metadata": {},
     "output_type": "display_data"
    }
   ],
   "source": [
    "plot_roc_curve(y_test, test_scores_gboost)"
   ]
  },
  {
   "cell_type": "code",
   "execution_count": 159,
   "metadata": {},
   "outputs": [
    {
     "data": {
      "image/png": "[encoded data removed]",
      "text/plain": [
       "<Figure size 640x480 with 1 Axes>"
      ]
     },
     "metadata": {},
     "output_type": "display_data"
    }
   ],
   "source": [
    "y_test_0 = test_scores_gboost[y_test == 0]\n",
    "y_test_1 = test_scores_gboost[y_test == 1]\n",
    "\n",
    "ks_2samp(y_test_0, y_test_1)\n",
    "\n",
    "# KS Test plot\n",
    "plt.figure()\n",
    "sns.kdeplot(y_test_0, cumulative=True, label=\"0\")\n",
    "sns.kdeplot(y_test_1, cumulative=True, label=\"1\")\n",
    "plt.title(\"KS Test\")\n",
    "plt.legend()\n",
    "plt.show()"
   ]
  },
  {
   "cell_type": "code",
   "execution_count": 160,
   "metadata": {},
   "outputs": [
    {
     "data": {
      "image/png": "[encoded data removed]",
      "text/plain": [
       "<Figure size 640x480 with 2 Axes>"
      ]
     },
     "metadata": {},
     "output_type": "display_data"
    }
   ],
   "source": [
    "plot_confusion_matrix(y_test, test_scores_gboost > BEST_RFOREST_VALIDATION_THRESHOLD)"
   ]
  },
  {
   "cell_type": "code",
   "execution_count": 161,
   "metadata": {},
   "outputs": [
    {
     "data": {
      "text/plain": [
       "{'acc': 0.9597705574376347,\n",
       " 'tpr': 0.9449267736560554,\n",
       " 'fpr': 0.02861456117477527,\n",
       " 'precision': 0.9627412437455325,\n",
       " 'f1-score': 0.9537508298296083}"
      ]
     },
     "execution_count": 161,
     "metadata": {},
     "output_type": "execute_result"
    }
   ],
   "source": [
    "get_overall_metrics(y_test, test_scores_gboost > BEST_RFOREST_VALIDATION_THRESHOLD)"
   ]
  }
 ],
 "metadata": {
  "kernelspec": {
   "display_name": "Python 3",
   "language": "python",
   "name": "python3"
  },
  "language_info": {
   "codemirror_mode": {
    "name": "ipython",
    "version": 3
   },
   "file_extension": ".py",
   "mimetype": "text/x-python",
   "name": "python",
   "nbconvert_exporter": "python",
   "pygments_lexer": "ipython3",
   "version": "3.9.6"
  }
 },
 "nbformat": 4,
 "nbformat_minor": 2
}
